{
 "metadata": {
  "name": "",
  "signature": "sha256:aaaca4642e33a60a701fccba581f3cfef644fdf041c80668c48e47c5ffc2526d"
 },
 "nbformat": 3,
 "nbformat_minor": 0,
 "worksheets": []
}