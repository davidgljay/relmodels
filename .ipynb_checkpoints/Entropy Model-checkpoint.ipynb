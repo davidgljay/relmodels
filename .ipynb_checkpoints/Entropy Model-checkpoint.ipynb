{
 "metadata": {
  "name": "",
  "signature": "sha256:5de8f1e8f986e6afa00227549b6aa3480a2da80588d976810125c039a36ccb46"
 },
 "nbformat": 3,
 "nbformat_minor": 0,
 "worksheets": [
  {
   "cells": [
    {
     "cell_type": "code",
     "collapsed": false,
     "input": [],
     "language": "python",
     "metadata": {},
     "outputs": []
    }
   ],
   "metadata": {}
  }
 ]
}