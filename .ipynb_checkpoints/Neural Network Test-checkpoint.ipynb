{
 "metadata": {
  "name": "",
  "signature": "sha256:2de9892c5e4386aab40a894b964afe974c82197d08a4187024478e24a1988bc8"
 },
 "nbformat": 3,
 "nbformat_minor": 0,
 "worksheets": [
  {
   "cells": [
    {
     "cell_type": "heading",
     "level": 2,
     "metadata": {},
     "source": [
      "Neural Network Test"
     ]
    },
    {
     "cell_type": "markdown",
     "metadata": {},
     "source": [
      "Ok, so the idea here is to create nodes connected by autocorrecting weights. Let's create a simple version."
     ]
    },
    {
     "cell_type": "code",
     "collapsed": false,
     "input": [
      "from random import randint \n",
      "\n",
      "net = []\n",
      "layer1 = 2\n",
      "layer2 = 5\n",
      "layer3 = 2\n",
      "\n",
      "\n",
      "#Each neuron has an int. If the int is > 1, the neuron fires.\n",
      "#Each neuron has a weight connecting it to the next layer.\n",
      "#These weights can be negative.\n",
      "#Let's start by creating the neurons.\n",
      "\n",
      "for i in xrange(0,3):\n",
      "    net.append([])\n",
      "\n",
      "for i in xrange(0,layer1):\n",
      "    net[0].append(0)\n",
      "for i in xrange(0, layer2):\n",
      "    net[1].append(0)\n",
      "for i in xrange(0, layer3):\n",
      "    net[2].append(0)\n",
      "    \n",
      "#Now let's add the weights\n",
      "\n",
      "weights = []\n",
      "for i in xrange(0,len(net)-1):\n",
      "    weights.append([])\n",
      "    for j in xrange(0, len(net[i])):\n",
      "        weights[i].append([])\n",
      "        for k in xrange(0, len(net[i+1])):\n",
      "            weights[i][j].append(randint(-10,10))\n",
      "\n",
      "\n",
      "# Ok, sweet. Now let's create an array of expected inputs and outputs.\n",
      "# If the two are the same, then the first one fires. Otherwise the second one fires.\n",
      "\n",
      "training = [[[2,2],[1,0]],\n",
      "            [[0,1],[0,1]],\n",
      "            [[1,0],[0,1]],\n",
      "            [[1,1],[1,0]]\n",
      "            ]\n",
      "\n",
      "#Now let's run through the training set\n",
      "\n",
      "def rundata(trainingset):\n",
      "    net[0] = trainingset[0]\n",
      "    for i in xrange(0,len(net)-1):\n",
      "        for j in xrange(0, len(net[i])):\n",
      "            for k in xrange(0,len(weights[i][j])):\n",
      "                if (net[i][j] > 0):\n",
      "                    net[i+1][k] += weights[i][j][k]\n",
      "    for i in xrange(0,len(net[2])):\n",
      "        if (net[2][i] > 0):\n",
      "            net[2][i] = 1\n",
      "        else:\n",
      "            net[2][i] = 0\n",
      "    return net[2]\n",
      "        \n",
      "#Now, correct errors by shifting weights if an end neuron is incorrect.\n",
      "        \n",
      "def correctError(training):\n",
      "    for trainingset in training:\n",
      "        result = rundata(trainingset)\n",
      "        for i in xrange(0,len(result)):\n",
      "            error = result[i] - trainingset[0][i]\n",
      "            for j in xrange(0, len(weights[1])):\n",
      "                weights[1][j][i] -= error\n",
      "            print error \n",
      "        \n",
      "correctError(training)"
     ],
     "language": "python",
     "metadata": {},
     "outputs": [
      {
       "output_type": "stream",
       "stream": "stdout",
       "text": [
        "[[[-1, 8, -2, 6, -10], [0, -6, -7, -6, 0]], [[6, 4], [-6, 4], [-5, -1], [5, -4], [-7, 1]]]\n",
        "-2\n",
        "-1\n",
        "0\n",
        "0\n",
        "-1\n",
        "1\n",
        "-1\n",
        "0\n"
       ]
      }
     ],
     "prompt_number": 6
    }
   ],
   "metadata": {}
  }
 ]
}