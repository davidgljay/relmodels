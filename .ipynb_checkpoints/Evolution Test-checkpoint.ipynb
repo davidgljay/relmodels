{
 "metadata": {
  "name": "",
  "signature": "sha256:38dbb3ebc317d35bfba6284ff5edf4d38df0ddd1d9dcbef091be1ee7b93597ff"
 },
 "nbformat": 3,
 "nbformat_minor": 0,
 "worksheets": [
  {
   "cells": [
    {
     "cell_type": "heading",
     "level": 1,
     "metadata": {},
     "source": [
      "Overview"
     ]
    },
    {
     "cell_type": "markdown",
     "metadata": {},
     "source": [
      "How do variations in the accuracy of an evolutionary mechanism impact its outcome?\n",
      "\n",
      "Let's build seperate exploration, differentiation, and selection functions and have them climb some sort of evolutionary landscape. Then vary the \"effectiveness\" of the different parts of the evolutionary function to see what the impact is."
     ]
    },
    {
     "cell_type": "code",
     "collapsed": false,
     "input": [
      "%pylab inline\n",
      "from random import randint\n",
      "import matplotlib.pyplot as plt\n",
      "import copy\n",
      "\n",
      "class Evolandscape:\n",
      "    \n",
      "    #Initializes with an array, \"peaks,\" of the form [peak height,distnace from last peak] Creates a linear delta between peaks.\n",
      "    def __init__ (self, peaks, capacity, exploreRange, exploreNum):\n",
      "        \n",
      "        self.capacity = capacity\n",
      "        self.array = [[0, True]]\n",
      "        self.exploreRange = exploreRange\n",
      "        self.exploreNum = exploreNum\n",
      "        self.selectArray = []\n",
      "        self.peaks = []\n",
      "        self.stepcount = 0\n",
      "        for peak in peaks:\n",
      "            start = self.array[-1][0]\n",
      "            for i in xrange(0,peak[1]+1):\n",
      "                self.array.append([start+(i+0.0)/(peak[1]) * (peak[0]-start),False])\n",
      "            self.peaks.append([len(self.array)-1,peak[0]])\n",
      "        \n",
      "    def differentiate(self, i):\n",
      "        return self.array[i%len(self.array)]\n",
      "    \n",
      "    def explore(self):\n",
      "        arraycopy = copy.deepcopy(self.array)\n",
      "        self.array[-1][1] = True\n",
      "        for i in xrange(0, len(arraycopy)):\n",
      "            if (arraycopy[i][1]):\n",
      "                for j in xrange(0, self.exploreNum):\n",
      "                    self.array[(i + randint(self.exploreRange/2 * -1, self.exploreRange/2))%len(self.array)][1] = True\n",
      "            \n",
      "    def select(self):\n",
      "        selectArray = self.generateSelectArray()\n",
      "        i=0\n",
      "        critterCount = len(selectArray)\n",
      "        while (critterCount > self.capacity):\n",
      "            self.array[selectArray[i][0]][1] = False\n",
      "            i += 1\n",
      "            critterCount -= 1\n",
      "        self.selectArray = self.generateSelectArray()\n",
      "    \n",
      "    def generateSelectArray(self):\n",
      "        selectArray = []\n",
      "        for i in xrange(0, len(self.array)):\n",
      "            if (self.array[i][1]):\n",
      "                selectArray.append([i,self.differentiate(i)[0]])\n",
      "        return sorted(selectArray,key=lambda niche: niche[1])\n",
      "\n",
      "    def checkPeaks(self):\n",
      "        for i in xrange(0, len(self.peaks)):\n",
      "            if (self.array[self.peaks[i][0]][1] and len(self.peaks[i])<3):\n",
      "                self.peaks[i].append(self.stepcount)\n",
      "        \n",
      "    def step(self):\n",
      "        self.explore()\n",
      "        self.select()\n",
      "        self.checkPeaks()\n",
      "        \n",
      "    def split(self, array):\n",
      "        x = []\n",
      "        y = []\n",
      "        for item in array:\n",
      "            x.append(item[1])\n",
      "            y.append(item[0])\n",
      "        return x,y\n",
      "        \n",
      "    def evolinegraph(self,landscape, critters, title=\"\"):\n",
      "        landx, landy = self.split(landscape)\n",
      "        critterx, crittery = self.split(critters)\n",
      "        fig, axes = plt.subplots(figsize=(16,8))\n",
      "        axes.plot(xrange(0,len(landy)), landy)\n",
      "        axes.scatter(crittery, critterx)\n",
      "        axes.set_title(title)\n",
      "        \n",
      "    def peakBaggingGraph(self,peakRecord, title=\"\"):\n",
      "        x=[]\n",
      "        y=[]\n",
      "        peaksbagged=[]\n",
      "        for i in xrange(0, len(peakRecord)):\n",
      "            if(len(peakRecord[i])>2):\n",
      "                x.append(peakRecord[i][2])\n",
      "                y.append(len(x))\n",
      "        fig, axes = plt.subplots(figsize=(16,8))\n",
      "        axes.scatter(x,y)\n",
      "    \n",
      "    def run(self, count):\n",
      "        for i in xrange(0, count):\n",
      "            self.step()\n",
      "            self.stepcount += 1\n",
      "        return self.peaks\n",
      "    "
     ],
     "language": "python",
     "metadata": {},
     "outputs": [
      {
       "output_type": "stream",
       "stream": "stdout",
       "text": [
        "Populating the interactive namespace from numpy and matplotlib\n"
       ]
      },
      {
       "output_type": "stream",
       "stream": "stderr",
       "text": [
        "WARNING: pylab import has clobbered these variables: ['copy', 'randint']\n",
        "`%matplotlib` prevents importing * from pylab and numpy\n"
       ]
      }
     ],
     "prompt_number": 82
    },
    {
     "cell_type": "code",
     "collapsed": false,
     "input": [
      "evo = Evolandscape([[100,10],[-100,20],[30,20],[1000,100],[0,200], [-100, 20]],10,40,10)\n",
      "evo.run(100)"
     ],
     "language": "python",
     "metadata": {},
     "outputs": [
      {
       "output_type": "stream",
       "stream": "stdout",
       "text": [
        "[2, 12, 0]\n",
        "[1, 2, 3]\n",
        "[[11, 100, 2], [32, -100], [53, 30], [154, 1000, 12], [355, 0], [376, -100, 0]]"
       ]
      },
      {
       "output_type": "stream",
       "stream": "stdout",
       "text": [
        "\n"
       ]
      },
      {
       "metadata": {},
       "output_type": "display_data",
       "png": "[encoded data removed]",
       "text": [
        "<matplotlib.figure.Figure at 0xa890f28>"
       ]
      }
     ],
     "prompt_number": 79
    },
    {
     "cell_type": "heading",
     "level": 2,
     "metadata": {},
     "source": [
      "Visualization"
     ]
    },
    {
     "cell_type": "markdown",
     "metadata": {},
     "source": [
      "Now it's time to visualize. I'll probably want a line graph showing the landscape, with dots representing the placement of the critters."
     ]
    },
    {
     "cell_type": "code",
     "collapsed": false,
     "input": [
      "def evolinegraph(landscape, critters, title=\"\"):\n",
      "    x = []\n",
      "    y = []\n",
      "    for critter in critters:\n",
      "        x.append(critter[1])\n",
      "        y.appened(critter[0])\n",
      "    fig, axes = plt.subplots(figsize=(16,8))\n",
      "    axes.plot(xrange(0,len(landscape)), landscape)\n",
      "    axes.scatter(x, y)\n",
      "    axes.set_title(title)"
     ],
     "language": "python",
     "metadata": {},
     "outputs": [],
     "prompt_number": 67
    },
    {
     "cell_type": "code",
     "collapsed": false,
     "input": [
      "def peakBaggingGraph(peakRecords, title=\"\"):\n",
      "    x=[]\n",
      "    y=[]\n",
      "    for i in xrange(0, len(peakRecords)):\n",
      "        prs = peakRecords[i]\n",
      "        for j in xrange(0,len(prs)):\n",
      "            pr = prs[j]\n",
      "            for k in xrange(0,len(pr)):\n",
      "                if(len(pr[k])>2):\n",
      "                    y.append(pr[k][2])\n",
      "                    x.append(j)\n",
      "    fig, axes = plt.subplots(figsize=(16,8))\n",
      "    axes.scatter(x,y)"
     ],
     "language": "python",
     "metadata": {},
     "outputs": [],
     "prompt_number": 107
    },
    {
     "cell_type": "code",
     "collapsed": false,
     "input": [],
     "language": "python",
     "metadata": {},
     "outputs": []
    },
    {
     "cell_type": "heading",
     "level": 3,
     "metadata": {},
     "source": [
      "from mpl_toolkits.mplot3d import Axes3D\n",
      "\n",
      "def 3dpeakGraph(peakRecords, title=\"\"):\n",
      "    ax = plt.axes(projection='3d')\n",
      "    x=[]\n",
      "    y=[]\n",
      "    z=[]\n",
      "    for i in xrange(0, len(peakRecords)):\n",
      "        prs = peakRecords[i]\n",
      "        for x in xrange(0,len(prs)):\n",
      "            prx = prs[x]\n",
      "            for y in xrange(0,len(prx)):\n",
      "                pry = prx[y]\n",
      "                for k in xrange(0,len(pr)):\n",
      "                    if(len(pr[k])>2):\n",
      "                        z.append(pr[k][2])\n",
      "                        x.append(x)\n",
      "                        y.append(y)\n",
      "    fig, axes = plt.subplots(figsize=(16,8))\n",
      "    c = x+y\n",
      "    axes.scatter(x,y,z,c=c)"
     ]
    },
    {
     "cell_type": "heading",
     "level": 2,
     "metadata": {},
     "source": [
      "Variables"
     ]
    },
    {
     "cell_type": "markdown",
     "metadata": {},
     "source": [
      "What am I testing for here? Probably \"time to optimal state\" and \"states reached. So I'll want to record in memory the time when each peak is reached, then graph that for different arrangements."
     ]
    },
    {
     "cell_type": "code",
     "collapsed": false,
     "input": [
      "capacity = 15\n",
      "exrange=10\n",
      "exnum=5 \n",
      "\n",
      "prs = []\n",
      "for i in xrange(0,1):\n",
      "    pr = []\n",
      "    for x in xrange(0,5):\n",
      "        for y in xrange(0,5):\n",
      "            ev = Evolandscape([[100,20],[-100,20],[30,20],[1000,100],[0,200], [-100, 20]],capacity+y,exrange,exnum+x)\n",
      "            pr.append(ev.run(100))\n",
      "    prs.append(pr)\n",
      "3dpeakGraph(prs)"
     ],
     "language": "python",
     "metadata": {},
     "outputs": []
    },
    {
     "cell_type": "markdown",
     "metadata": {},
     "source": [
      "What's my plan here?\n",
      "\n",
      "-I have work to do on the connection to core rel theory. It looks like that'll be tricky. But there's SOME version of EDS in there (though it looks like it may be expanded or collapsed, and may have to do with quantum waveforms), so I'm guessing that this work will still have some benefit. Maybe keep at it to get a sense of how to visualize/what some of the constraints are? That's tricky and unfocused, but I shouldn't let that cause me distress.\n",
      "\n",
      "-I need to create markers for the time when a peak is reached. \n",
      "-I need to have a good way to visualize those markers.\n",
      "-I need to find a way to deal with multiple critters competing for space in a peak.\n",
      "\n",
      "-I should modify the selection criteria so that there's a chance that you'll die if you're below a certain point, rather than selecting for a limited carrying capacity. I could see it going either way. Maybe a more complex equation there?"
     ]
    },
    {
     "cell_type": "markdown",
     "metadata": {},
     "source": [
      "Step 1: Create markers."
     ]
    },
    {
     "cell_type": "code",
     "collapsed": false,
     "input": [
      "[1,2] + [3]"
     ],
     "language": "python",
     "metadata": {},
     "outputs": [
      {
       "metadata": {},
       "output_type": "pyout",
       "prompt_number": 100,
       "text": [
        "[1, 2, 3]"
       ]
      }
     ],
     "prompt_number": 100
    }
   ],
   "metadata": {}
  }
 ]
}