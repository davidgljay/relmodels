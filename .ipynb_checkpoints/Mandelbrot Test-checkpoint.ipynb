{
 "metadata": {
  "name": "",
  "signature": "sha256:36d4cef6abc284d6227c901ddb2ad1f7801af558f43d11573ff4a38fa78ef973"
 },
 "nbformat": 3,
 "nbformat_minor": 0,
 "worksheets": [
  {
   "cells": [
    {
     "cell_type": "heading",
     "level": 1,
     "metadata": {},
     "source": [
      "Manbelbrot Set Test"
     ]
    },
    {
     "cell_type": "markdown",
     "metadata": {},
     "source": [
      "This is a test of code to create the mandelbrot set, as a way to get warmed up and accustomed to iPython.\n",
      "First, let's define a function to test members of the set:"
     ]
    },
    {
     "cell_type": "code",
     "collapsed": false,
     "input": [
      "import matplotlib.pyplot as plt\n",
      "x=[1,2,3]\n",
      "y=[1,2,5]\n",
      "\n",
      "plt.scatter(x,y)\n",
      "plt.show()\n"
     ],
     "language": "python",
     "metadata": {},
     "outputs": [],
     "prompt_number": 24
    },
    {
     "cell_type": "code",
     "collapsed": false,
     "input": [
      "def settest(r, i):\n",
      "    c = complex(r,i)\n",
      "    z = 0\n",
      "    for x in xrange(0,10):\n",
      "        z = z**2 + c\n",
      "        if (z.real > 3):\n",
      "            return 0\n",
      "    if (z.real < 3):\n",
      "        return 1"
     ],
     "language": "python",
     "metadata": {},
     "outputs": [],
     "prompt_number": 1
    },
    {
     "cell_type": "markdown",
     "metadata": {},
     "source": [
      "Now, let's create a 2D array that populates \"true\" and \"false\" values with that function."
     ]
    },
    {
     "cell_type": "code",
     "collapsed": false,
     "input": [
      "import pandas as pd\n",
      "import numpy as np"
     ],
     "language": "python",
     "metadata": {},
     "outputs": []
    },
    {
     "cell_type": "code",
     "collapsed": false,
     "input": [
      "def settest(r, i):\n",
      "    c = complex(r,i)\n",
      "    z = 0\n",
      "    for x in xrange(0,100):\n",
      "        z = z*z + c\n",
      "        if (z.real > 10 or z.imag > 10):\n",
      "            return False\n",
      "    return True\n",
      "\n",
      "\n",
      "r = 10\n",
      "xset = []\n",
      "yset = []\n",
      "for x in xrange(0,r):\n",
      "    for y in xrange(0,r):\n",
      "        xf = float(x)/r*2-1\n",
      "        yf = float(y)/r*2-1\n",
      "        if (settest(xf, yf)):\n",
      "            xset.append(xf)\n",
      "            yset.append(yf)\n",
      "pd.scatter(xset, yset)\n",
      "pd.plot()"
     ],
     "language": "python",
     "metadata": {},
     "outputs": []
    },
    {
     "cell_type": "code",
     "collapsed": false,
     "input": [],
     "language": "python",
     "metadata": {},
     "outputs": []
    },
    {
     "cell_type": "code",
     "collapsed": false,
     "input": [],
     "language": "python",
     "metadata": {},
     "outputs": []
    }
   ],
   "metadata": {}
  }
 ]
}