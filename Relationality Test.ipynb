{
 "metadata": {
  "name": "",
  "signature": "sha256:bfe21dececf7141c6687a51946b3dc39952dd36ad91d8543bdb39f5add29afd0"
 },
 "nbformat": 3,
 "nbformat_minor": 0,
 "worksheets": [
  {
   "cells": [
    {
     "cell_type": "heading",
     "level": 1,
     "metadata": {},
     "source": [
      "Overview"
     ]
    },
    {
     "cell_type": "markdown",
     "metadata": {},
     "source": [
      "The goal here is to explore the dynamics of the relationality equation I came up with today:\n",
      "\n",
      "R = S(p)*Sum(i,p(i)*e(i))\n",
      "\n",
      "Where P is the probability of an outcome, and e(i) is the expected relational value of that outcome.\n",
      "\n"
     ]
    }
   ],
   "metadata": {}
  }
 ]
}