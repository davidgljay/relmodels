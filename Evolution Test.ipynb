{
 "metadata": {
  "name": "",
  "signature": "sha256:254ef35c8794dac7231587d1fe89f62190adc3244b8d86304bbdda075a496de0"
 },
 "nbformat": 3,
 "nbformat_minor": 0,
 "worksheets": [
  {
   "cells": [
    {
     "cell_type": "markdown",
     "metadata": {},
     "source": [
      "Hypothesis"
     ]
    },
    {
     "cell_type": "heading",
     "level": 1,
     "metadata": {},
     "source": [
      "Hypothesis: I can build a simple evolutionary model, and vary the \"effectiveness\" of thea exploration, differntiation, and selection functions to observe the effect on the network. ax"
     ]
    }
   ],
   "metadata": {}
  }
 ]
}