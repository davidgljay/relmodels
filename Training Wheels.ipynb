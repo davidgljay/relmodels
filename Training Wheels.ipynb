{
 "metadata": {
  "name": "",
  "signature": "sha256:1d0424c9eb88d93a04e12c58434f781edebbe904ac13965173644f3d80df5d5e"
 },
 "nbformat": 3,
 "nbformat_minor": 0,
 "worksheets": [
  {
   "cells": [
    {
     "cell_type": "code",
     "collapsed": false,
     "input": [
      "1+1"
     ],
     "language": "python",
     "metadata": {},
     "outputs": [
      {
       "metadata": {},
       "output_type": "pyout",
       "prompt_number": 1,
       "text": [
        "2"
       ]
      }
     ],
     "prompt_number": 1
    },
    {
     "cell_type": "heading",
     "level": 1,
     "metadata": {},
     "source": [
      "Time for a test:"
     ]
    },
    {
     "cell_type": "code",
     "collapsed": false,
     "input": [
      "for x in range(0,10):\n",
      "    print \"test of %d\" % (x**x)"
     ],
     "language": "python",
     "metadata": {},
     "outputs": [
      {
       "output_type": "stream",
       "stream": "stdout",
       "text": [
        "test of 1\n",
        "test of 1\n",
        "test of 4\n",
        "test of 27\n",
        "test of 256\n",
        "test of 3125\n",
        "test of 46656\n",
        "test of 823543\n",
        "test of 16777216\n",
        "test of 387420489\n"
       ]
      }
     ],
     "prompt_number": 12
    },
    {
     "cell_type": "code",
     "collapsed": false,
     "input": [
      "from pylab import *"
     ],
     "language": "python",
     "metadata": {},
     "outputs": [],
     "prompt_number": 13
    },
    {
     "cell_type": "code",
     "collapsed": false,
     "input": [
      "x = np.linspace(-np.pi, np.pi, 256, endpoint=True)\n",
      "C,S = np.cos(x), np.sin(x)"
     ],
     "language": "python",
     "metadata": {},
     "outputs": [],
     "prompt_number": 17
    },
    {
     "cell_type": "code",
     "collapsed": false,
     "input": [
      "ipython --pylab"
     ],
     "language": "python",
     "metadata": {},
     "outputs": [
      {
       "ename": "NameError",
       "evalue": "name 'ipython' is not defined",
       "output_type": "pyerr",
       "traceback": [
        "\u001b[1;31m---------------------------------------------------------------------------\u001b[0m\n\u001b[1;31mNameError\u001b[0m                                 Traceback (most recent call last)",
        "\u001b[1;32m<ipython-input-18-d248c2a37934>\u001b[0m in \u001b[0;36m<module>\u001b[1;34m()\u001b[0m\n\u001b[1;32m----> 1\u001b[1;33m \u001b[0mipython\u001b[0m \u001b[1;33m-\u001b[0m\u001b[1;33m-\u001b[0m\u001b[0mpylab\u001b[0m\u001b[1;33m\u001b[0m\u001b[0m\n\u001b[0m",
        "\u001b[1;31mNameError\u001b[0m: name 'ipython' is not defined"
       ]
      }
     ],
     "prompt_number": 18
    },
    {
     "cell_type": "code",
     "collapsed": false,
     "input": [
      "plot(x,C)\n",
      "plot(x,S)\n",
      "show()"
     ],
     "language": "python",
     "metadata": {},
     "outputs": [],
     "prompt_number": 20
    },
    {
     "cell_type": "code",
     "collapsed": false,
     "input": [
      "import networkx as nx\n",
      "import matplotlib.pyplot as plt\n",
      "\n",
      "def draw_graph(graph) :\n",
      "    \n",
      "    # extract nods from graph\n",
      "    nodes = set([n1 for n1, n2 in graph] + [n2 for n1, n2 in graph])\n",
      "    \n",
      "    #create networkx graph\n",
      "    G = nx.Graph()\n",
      "    \n",
      "    #add nodes\n",
      "    for node in nodes:\n",
      "        G.add_node(node)\n",
      "        \n",
      "    #add edges\n",
      "    for edge in graph:\n",
      "        G.add_edge(edge[0], edge[1])\n",
      "        \n",
      "    #draw graph\n",
      "    pos = nx.shell_layout(G)\n",
      "    nx.draw(G, pos)\n",
      "    \n",
      "    #show graph\n",
      "    plt.show()\n",
      "    \n",
      "#draw example\n",
      "\n",
      "graph = [(20, 21),(21,22),(22,23),(23,24),(24,25),(25,20)]\n",
      "draw_graph(graph)"
     ],
     "language": "python",
     "metadata": {},
     "outputs": [],
     "prompt_number": 21
    },
    {
     "cell_type": "code",
     "collapsed": false,
     "input": [],
     "language": "python",
     "metadata": {},
     "outputs": []
    },
    {
     "cell_type": "code",
     "collapsed": false,
     "input": [],
     "language": "python",
     "metadata": {},
     "outputs": []
    }
   ],
   "metadata": {}
  }
 ]
}