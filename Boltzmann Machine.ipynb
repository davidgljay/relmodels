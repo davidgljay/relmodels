{
 "metadata": {
  "name": "",
  "signature": "sha256:54894e950ce640337e0a5bcf567f0983bef46a4d347f2d284094d9108f48ad5e"
 },
 "nbformat": 3,
 "nbformat_minor": 0,
 "worksheets": [
  {
   "cells": [
    {
     "cell_type": "heading",
     "level": 3,
     "metadata": {},
     "source": [
      "Boltzmann Machine"
     ]
    },
    {
     "cell_type": "markdown",
     "metadata": {},
     "source": [
      "Need to build a network with randomly weighted edges. \n",
      "In each node, place an item with entropy.\n",
      "Have the likelihood of firing be proportional to edge weight.\n",
      "We can see if stable systems emerge. \n",
      "I'll need to have high-entropy nodes continue firing.\n",
      "I'll need to see the end network visualized.\n",
      "Each node needs a unique ID that I can visualize. "
     ]
    },
    {
     "cell_type": "markdown",
     "metadata": {},
     "source": [
      "Trying something unorthodox. I'm going to have each node transmit with a probability tied to its weight, and have the resulting entropy be a result of the conflicting weights received by the other end. It feels like a far reach from what I was doing before, but seems like an interesting toy...."
     ]
    }
   ],
   "metadata": {}
  }
 ]
}