{
 "metadata": {
  "name": "",
  "signature": "sha256:01fed333813d14d51e0f4f1af5008f0a16173e741350aff12e3eb7c8675a4c1f"
 },
 "nbformat": 3,
 "nbformat_minor": 0,
 "worksheets": [
  {
   "cells": [
    {
     "cell_type": "heading",
     "level": 1,
     "metadata": {},
     "source": [
      "Relational Network Model v.1"
     ]
    },
    {
     "cell_type": "markdown",
     "metadata": {},
     "source": [
      "This project seeks to explore the physical properties of relationships by modelling simple relational systems and observing their emergent properties. \n",
      "\n",
      "\"Relationship\" in this case refers to any situation in which entities exchange information and reduce their entropy. This document will use a game theoretic approach, identifying entities with consistent properties and observing their emergent interactions.\n",
      "\n",
      "An entity will be defined as:"
     ]
    },
    {
     "cell_type": "code",
     "collapsed": false,
     "input": [
      "from random import randint\n",
      "\n",
      "class Entity:\n",
      "    \n",
      "    def __init__(self, config):\n",
      "        #Even though it's a questionable practice, I'm importing config_vars as a dictionary. This will make fiddling\n",
      "        #with entity attributes clearer later on.\n",
      "        self.max_entropy = config[\"max_entropy\"]  \n",
      "        self.reduction_on_receive = config[\"reduction_on_receive\"]\n",
      "        self.increase_on_send = config[\"increase_on_send\"]\n",
      "        self.state_index = 0\n",
      "        self.generate_state(config[\"state_array_length\"],config[\"neighborhood_size\"])\n",
      "        self.entropy = config[\"starting_entropy\"]\n",
      "        \n",
      "    #Randomly state_index based on entropy and returns a target\n",
      "    def send(self):\n",
      "        if (randint(0,self.max_entropy) < self.entropy):\n",
      "            r = randint(0,1)\n",
      "            if (r == 0):\n",
      "                self.state_index -= 1\n",
      "            else:\n",
      "                self.state_index += 1\n",
      "            if (self.state_index >= len(self.state)):\n",
      "                self.state_index = 0\n",
      "            if (self.state_index <= len(self.state)*-1):\n",
      "                self.state_index = 0\n",
      "        self.entropy += self.increase_on_send\n",
      "        return self.state[self.state_index]\n",
      "    \n",
      "    #Lowers entropy when a bit is recieved\n",
      "    def receive(self):\n",
      "            self.entropy -= self.reduction_on_receive\n",
      "            if self.entropy < 0:\n",
      "                self.entropy = 0\n",
      "     \n",
      "    #Generates a range of states on initialization\n",
      "    def generate_state(self, state_array_length, neighborhood_size):\n",
      "        self.state = []\n",
      "        for i in xrange(0, state_array_length):\n",
      "            x = randint(neighborhood_size*-1, neighborhood_size)\n",
      "            y = randint(neighborhood_size*-1, neighborhood_size)            \n",
      "            self.state.append((x,y))"
     ],
     "language": "python",
     "metadata": {},
     "outputs": [],
     "prompt_number": 4
    },
    {
     "cell_type": "heading",
     "level": 3,
     "metadata": {},
     "source": [
      "Entity Tests"
     ]
    },
    {
     "cell_type": "code",
     "collapsed": false,
     "input": [
      "test_vars = {}\n",
      "test_vars[\"max_entropy\"]=100\n",
      "test_vars[\"reduction_on_receive\"]=2\n",
      "test_vars[\"increase_on_send\"]=1\n",
      "test_vars[\"state_array_length\"]=10\n",
      "test_vars[\"neighborhood_size\"]=10\n",
      "test_vars[\"starting_entropy\"]=50\n",
      "\n",
      "e = Entity(test_vars)\n",
      "print e.state\n",
      "print e.entropy\n",
      "print e.send()\n",
      "print e.entropy\n",
      "e.receive()\n",
      "print e.entropy\n",
      "print e.send()\n",
      "print e.send()\n",
      "print e.send()\n",
      "print e.send()"
     ],
     "language": "python",
     "metadata": {},
     "outputs": [
      {
       "output_type": "stream",
       "stream": "stdout",
       "text": [
        "[(-5, -4), (3, -1), (-1, -4), (-3, 4), (3, 10), (3, -4), (3, 4), (10, 10), (8, -10), (10, 9)]\n",
        "50\n",
        "(-5, -4)\n",
        "51\n",
        "49\n",
        "(-5, -4)\n",
        "(3, -1)\n",
        "(3, -1)\n",
        "(-1, -4)\n"
       ]
      }
     ],
     "prompt_number": 5
    },
    {
     "cell_type": "heading",
     "level": 2,
     "metadata": {},
     "source": [
      "Landscape"
     ]
    },
    {
     "cell_type": "markdown",
     "metadata": {},
     "source": [
      "Now, let's create a landscape for entities to interact in. \n",
      "\n",
      "This landscape will be a 2-dimensional grid of size size. \n",
      "\n",
      "Each element in the grid will have a likelihood density of containing an entity.\n",
      "\n",
      "Upon initialization, the landscape will seed entities.\n",
      "\n",
      "It will include a \"Step\" function, which runs \"send\" commands on all entities and logs transaction and entropic information.\n",
      "\n",
      "It will include a \"run\" function, which runs the model through a given number of steps and returns the logs."
     ]
    },
    {
     "cell_type": "code",
     "collapsed": false,
     "input": [
      "class Landscape:\n",
      "    \n",
      "    #Initializes the landscape, creating entities in a 2d grid\n",
      "    def __init__(self, size, density,entity_vars):\n",
      "        self.transaction_log = []\n",
      "        self.entropy_log = []\n",
      "        self.model = []\n",
      "        for i in xrange(0, size-1):\n",
      "            self.model.append([])\n",
      "            for j in xrange(0, size-1):\n",
      "                if (randint(0,100)<density):\n",
      "                    self.model[-1].append(Entity(entity_vars))\n",
      "                else:\n",
      "                    self.model[-1].append(0)\n",
      "                \n",
      "    #Runs through each entity, transmitting bits and loging information about the entity\n",
      "    def step(self):\n",
      "        self.transaction_log.append([])\n",
      "        self.entropy_log.append([])\n",
      "        for i in xrange(0,len(self.model)-1):\n",
      "            for j in xrange(0,len(self.model[i])-1):\n",
      "                if(self.model[i][j]):\n",
      "                    entity = self.model[i][j]\n",
      "                    t = entity.send()\n",
      "                    \n",
      "                    tx = t[0]+i\n",
      "                    ty = t[1]+j\n",
      "                    if(tx >= len(self.model)):\n",
      "                        tx -= len(self.model)\n",
      "                    if(ty >= len(self.model[i])):\n",
      "                        ty -= len(self.model[i])\n",
      "                        \n",
      "                    target = self.model[tx][ty]\n",
      "                    if(target):\n",
      "                        target.receive()\n",
      "                        self.transaction_log[-1].append([(i,j),(tx,ty)])\n",
      "                    \n",
      "                    self.entropy_log[-1].append(entity.entropy)\n",
      "                    \n",
      "    def run(self, count):\n",
      "        for i in xrange(1,count):\n",
      "            self.step()\n",
      "        logs = {\"transaction_log\":self.transaction_log, \"entropy_log\":self.entropy_log}\n",
      "        return logs"
     ],
     "language": "python",
     "metadata": {},
     "outputs": [],
     "prompt_number": 6
    },
    {
     "cell_type": "heading",
     "level": 3,
     "metadata": {},
     "source": [
      "Landscape Test"
     ]
    },
    {
     "cell_type": "code",
     "collapsed": false,
     "input": [
      "xset=[]\n",
      "yset=[]\n",
      "\n",
      "l = Landscape(100,5,test_vars)\n",
      "for i in xrange(0,len(l.model)-1):\n",
      "    for j in xrange(0,len(l.model[i])-1):\n",
      "        if (l.model[i][j]):\n",
      "            xset.append(i)\n",
      "            yset.append(j)\n",
      "\n",
      "plt.scatter(xset, yset)\n",
      "plt.show()\n",
      "\n",
      "l.step()\n",
      "print len(l.entropy_log[0])\n",
      "print len(l.transaction_log[0])\n",
      "\n",
      "logs = l.run(1000)\n",
      "print logs[\"transaction_log\"][-1]"
     ],
     "language": "python",
     "metadata": {},
     "outputs": [
      {
       "metadata": {},
       "output_type": "display_data",
       "png": "[encoded data removed]",
       "text": [
        "<matplotlib.figure.Figure at 0x7f67f0654550>"
       ]
      },
      {
       "output_type": "stream",
       "stream": "stdout",
       "text": [
        "488\n",
        "18\n",
        "[[(5, 26), (4, 25)], [(8, 36), (-1, 37)], [(9, 44), (18, 36)], [(10, 69), (17, 68)], [(15, 33), (18, 40)], [(22, 71), (17, 68)], [(31, 86), (31, 86)], [(36, 2), (32, -5)], [(40, 40), (48, 37)], [(41, 27), (42, 18)], [(42, 87), (50, 94)], [(45, 55), (47, 54)], [(49, 75), (58, 82)], [(49, 88), (49, 85)], [(64, 90), (57, 91)], [(68, 1), (73, 6)], [(69, 18), (69, 13)], [(73, 11), (63, 7)], [(81, 63), (85, 57)], [(95, 51), (4, 47)], [(95, 68), (95, 68)]]"
       ]
      },
      {
       "output_type": "stream",
       "stream": "stdout",
       "text": [
        "\n"
       ]
      }
     ],
     "prompt_number": 11
    },
    {
     "cell_type": "heading",
     "level": 2,
     "metadata": {},
     "source": [
      "Visualization"
     ]
    },
    {
     "cell_type": "markdown",
     "metadata": {},
     "source": [
      "Finally, let's create a set of functions to visualize our results. First, we'll import some libraries:"
     ]
    },
    {
     "cell_type": "code",
     "collapsed": false,
     "input": [
      "%pylab inline\n",
      "import matplotlib.pyplot as plt\n",
      "import numpy as np"
     ],
     "language": "python",
     "metadata": {},
     "outputs": [
      {
       "output_type": "stream",
       "stream": "stdout",
       "text": [
        "Populating the interactive namespace from numpy and matplotlib\n"
       ]
      }
     ],
     "prompt_number": 10
    },
    {
     "cell_type": "heading",
     "level": 3,
     "metadata": {},
     "source": [
      "Landscape Map"
     ]
    },
    {
     "cell_type": "code",
     "collapsed": false,
     "input": [
      "def landscapemap(l, title=\"\"):\n",
      "    xset=[]\n",
      "    yset=[]\n",
      "    for i in xrange(0,len(l.model)-1):\n",
      "        for j in xrange(0,len(l.model[i])-1):\n",
      "            if (l.model[i][j]):\n",
      "                xset.append(i)\n",
      "                yset.append(j)\n",
      "    fig, axes = plt.subplots(figsize=(12,12))\n",
      "    axes.scatter(xset, yset)\n",
      "    axes.set_xlim([-1,max(xset)+1])\n",
      "    axes.set_ylim([-1,max(yset)+1])\n",
      "    axes.set_title(title)\n",
      "    return axes"
     ],
     "language": "python",
     "metadata": {},
     "outputs": [],
     "prompt_number": 12
    },
    {
     "cell_type": "code",
     "collapsed": false,
     "input": [
      "l = Landscape(50,20,test_vars)\n",
      "landscapemap(l,\"A nifty landscape\")"
     ],
     "language": "python",
     "metadata": {},
     "outputs": [
      {
       "metadata": {},
       "output_type": "pyout",
       "prompt_number": 13,
       "text": [
        "<matplotlib.axes._subplots.AxesSubplot at 0x7f67f059a790>"
       ]
      },
      {
       "metadata": {},
       "output_type": "display_data",
       "png": "[encoded data removed]",
       "text": [
        "<matplotlib.figure.Figure at 0x7f67f059aa90>"
       ]
      }
     ],
     "prompt_number": 13
    },
    {
     "cell_type": "heading",
     "level": 3,
     "metadata": {},
     "source": [
      "Line Graph"
     ]
    },
    {
     "cell_type": "markdown",
     "metadata": {},
     "source": [
      "Accepts an array of integers. We'll assume that the x axis is steps"
     ]
    },
    {
     "cell_type": "code",
     "collapsed": false,
     "input": [
      "def linegraph(nums, title=\"\"):\n",
      "    fig, axes = plt.subplots(figsize=(16,8))\n",
      "    axes.plot(xrange(0,len(nums)), nums)\n",
      "    axes.set_title(title)"
     ],
     "language": "python",
     "metadata": {},
     "outputs": [],
     "prompt_number": 14
    },
    {
     "cell_type": "code",
     "collapsed": false,
     "input": [
      "nums = xrange(0,100)\n",
      "title = \"A test line graph\"\n",
      "linegraph(nums,title)"
     ],
     "language": "python",
     "metadata": {},
     "outputs": [
      {
       "metadata": {},
       "output_type": "display_data",
       "png": "[encoded data removed]",
       "text": [
        "<matplotlib.figure.Figure at 0x7f67f05f6710>"
       ]
      }
     ],
     "prompt_number": 15
    },
    {
     "cell_type": "heading",
     "level": 3,
     "metadata": {},
     "source": [
      "Phase Space Map"
     ]
    },
    {
     "cell_type": "markdown",
     "metadata": {},
     "source": [
      "Phhhhhaaaaaaaasssssseeeeeeeee sssssspppppaaaaacccccceeeeeeee!!!!!!"
     ]
    },
    {
     "cell_type": "markdown",
     "metadata": {},
     "source": [
      "Accepts 2d array (presumably entropy_log) and prints a colored phase space diagram.\n",
      "Colors indicate values between a certain threshhold."
     ]
    },
    {
     "cell_type": "code",
     "collapsed": false,
     "input": [
      "from itertools import cycle\n",
      "\n",
      "def getx(xy):\n",
      "    return xy[0]\n",
      "\n",
      "def gety(xy):\n",
      "    return xy[1]\n",
      "\n",
      "def phasespacemap(values, dividers, title=\"\"):\n",
      "    sets = [[]]\n",
      "    for d in dividers:\n",
      "        sets.append([])\n",
      "    \n",
      "    #Assign points to sets based on which divider they're a part of\n",
      "    for i in xrange(0,len(values)-1):\n",
      "        for j in xrange(0,len(values)-1):\n",
      "            for k in xrange(0,len(dividers)):\n",
      "                values[i].sort()\n",
      "                val = values[i][j]\n",
      "                if k == len(dividers):\n",
      "                    if val > dividers[-1]:\n",
      "                        sets[k].append((i,j))\n",
      "                elif k == 0:\n",
      "                    if val < dividers[k]:\n",
      "                        sets[k].append((i,j))\n",
      "                elif val <= dividers[k] and val >= dividers[k-1]:\n",
      "                    sets[k].append((i,j))\n",
      "                    \n",
      "    #Set up an array of colors\n",
      "    colors=cycle([\"b\",\"g\",\"r\",\"m\",\"c\",\"y\",\"k\",\"grey\"])\n",
      "    \n",
      "    fig, axes = plt.subplots(figsize=(15,8))\n",
      "    axes.set_title(title)\n",
      "    #Plot each set as s different color\n",
      "    for i in xrange(0,len(sets)-1):\n",
      "        xset = []\n",
      "        yset = []\n",
      "        if len(sets[i]) > 0:\n",
      "            xset=map(getx,sets[i])\n",
      "            yset=map(gety,sets[i])\n",
      "            c = colors.next()\n",
      "            if i < len(dividers):\n",
      "                lbl = \"< \" + str(dividers[i])\n",
      "            else:\n",
      "                lbl = \"> \" + str(dividers[-1])\n",
      "            axes.scatter(xset, yset, color=c, label=lbl, )\n",
      "            axes.legend(loc=1)\n",
      "        \n",
      "    plt.show()"
     ],
     "language": "python",
     "metadata": {},
     "outputs": [],
     "prompt_number": 16
    },
    {
     "cell_type": "code",
     "collapsed": false,
     "input": [
      "l = Landscape(40, 50, test_vars)\n",
      "logs = l.run(100)\n",
      "dividers=[i*10 for i in xrange(0,10)]\n",
      "phasespacemap(logs[\"entropy_log\"], dividers, \"Test map\")"
     ],
     "language": "python",
     "metadata": {},
     "outputs": [
      {
       "metadata": {},
       "output_type": "display_data",
       "png": "[encoded data removed]",
       "text": [
        "<matplotlib.figure.Figure at 0x7f6805ba9190>"
       ]
      }
     ],
     "prompt_number": 17
    },
    {
     "cell_type": "heading",
     "level": 3,
     "metadata": {},
     "source": [
      "Animated Graph"
     ]
    },
    {
     "cell_type": "markdown",
     "metadata": {},
     "source": [
      "Last but definitely not least, an animated graph of transactions ocurring in the model."
     ]
    },
    {
     "cell_type": "code",
     "collapsed": false,
     "input": [
      "from matplotlib import animation\n",
      "\n",
      "def networkview(transaction_log, landscape, title=\"\"):\n",
      "    \n",
      "    # initialization function: plot the background of each frame\n",
      "    def init():\n",
      "        axes = landscapemap(landscape, title)\n",
      "        return axes\n",
      "\n",
      "    # animation function.  This is called sequentially\n",
      "    def animate(i):\n",
      "        for t in transaction_log[0]:\n",
      "            line, = axes.plot([t[0][0],t[1][0]],[t[0][1],t[1][1]],\"b\")\n",
      "            axes.add_line(line)\n",
      "        return axes\n",
      "\n",
      "    # call the animator.  blit=True means only re-draw the parts that have changed.\n",
      "    anim = animation.FuncAnimation(fig, animate, init_func=init,\n",
      "                                   frames=200, interval=20, blit=True)\n",
      "    plt.show()"
     ],
     "language": "python",
     "metadata": {},
     "outputs": []
    }
   ],
   "metadata": {}
  }
 ]
}