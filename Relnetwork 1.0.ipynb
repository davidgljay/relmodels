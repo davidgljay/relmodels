{
 "metadata": {
  "name": "",
  "signature": "sha256:43faf6a17108f554de4cb936f7b688cf69190d32f143fba6ec08e90985632f13"
 },
 "nbformat": 3,
 "nbformat_minor": 0,
 "worksheets": [
  {
   "cells": [
    {
     "cell_type": "heading",
     "level": 1,
     "metadata": {},
     "source": [
      "Relational Network Model v.1"
     ]
    },
    {
     "cell_type": "markdown",
     "metadata": {},
     "source": [
      "This project seeks to explore the physical properties of relationships by modelling simple relational systems and observing their emergent properties. \n",
      "\n",
      "\"Relationship\" in this case refers to any situation in which entities exchange thermodynamic information, any situation where one entity influences the entropy of another. \n",
      "\n",
      "This model will define a set of entities, each of which have a nonzero entropy value. Entities will be capable of sending bits of information to other entities. Entities with a high entropy will randomly rotate their targets, while entities with a low entropy will maintain stable targets. Every time an entity transmits a bit, its entropy will increase. Every time an entity is targeted by a bit, it's entropy will decrease. \n",
      "\n",
      "This model reliably creates stable and semistable relationships with interesting properties.\n",
      "\n",
      "An entity will be defined as:"
     ]
    },
    {
     "cell_type": "code",
     "collapsed": false,
     "input": [
      "from random import randint\n",
      "\n",
      "class Entity:\n",
      "    \n",
      "    def __init__(self, config):\n",
      "        #Even though it's a questionable practice, I'm importing config_vars as a dictionary. This will make fiddling\n",
      "        #with entity attributes clearer later on.\n",
      "        self.max_entropy = config[\"max_entropy\"]  \n",
      "        self.reduction_on_receive = config[\"reduction_on_receive\"]\n",
      "        self.increase_on_send = config[\"increase_on_send\"]\n",
      "        self.state_index = 0\n",
      "        self.generate_state(config[\"state_array_length\"],config[\"neighborhood_size\"])\n",
      "        self.entropy = config[\"starting_entropy\"]\n",
      "        \n",
      "    #Randomly state_index based on entropy and returns a target\n",
      "    def send(self):\n",
      "        switch = 0\n",
      "        if (randint(0,self.max_entropy) < self.entropy):\n",
      "            switch = 1\n",
      "            r = randint(0,1)\n",
      "            if (r == 0):\n",
      "                self.state_index -= 1\n",
      "            else:\n",
      "                self.state_index += 1\n",
      "            if (self.state_index >= len(self.state)):\n",
      "                self.state_index = 0\n",
      "            if (self.state_index <= len(self.state)*-1):\n",
      "                self.state_index = 0\n",
      "        self.entropy += self.increase_on_send\n",
      "        return [self.state[self.state_index], switch]\n",
      "    \n",
      "    #Lowers entropy when a bit is recieved\n",
      "    def receive(self):\n",
      "            self.entropy -= self.reduction_on_receive\n",
      "            if self.entropy < 0:\n",
      "                self.entropy = 0\n",
      "                \n",
      "    def knockout(self):\n",
      "        self.entropy += 200:\n",
      "     \n",
      "    #Generates a range of states on initialization\n",
      "    def generate_state(self, state_array_length, neighborhood_size):\n",
      "        self.state = []\n",
      "        for i in xrange(0, state_array_length):\n",
      "            x = randint(neighborhood_size*-1, neighborhood_size)\n",
      "            y = randint(neighborhood_size*-1, neighborhood_size)            \n",
      "            self.state.append((x,y))"
     ],
     "language": "python",
     "metadata": {},
     "outputs": [
      {
       "ename": "SyntaxError",
       "evalue": "invalid syntax (<ipython-input-48-cbe4eb5a1253>, line 39)",
       "output_type": "pyerr",
       "traceback": [
        "\u001b[1;36m  File \u001b[1;32m\"<ipython-input-48-cbe4eb5a1253>\"\u001b[1;36m, line \u001b[1;32m39\u001b[0m\n\u001b[1;33m    self.entropy += 200:\u001b[0m\n\u001b[1;37m                       ^\u001b[0m\n\u001b[1;31mSyntaxError\u001b[0m\u001b[1;31m:\u001b[0m invalid syntax\n"
       ]
      }
     ],
     "prompt_number": 48
    },
    {
     "cell_type": "heading",
     "level": 3,
     "metadata": {},
     "source": [
      "Entity Tests"
     ]
    },
    {
     "cell_type": "code",
     "collapsed": false,
     "input": [
      "test_vars = {}\n",
      "test_vars[\"max_entropy\"]=100\n",
      "test_vars[\"reduction_on_receive\"]=2\n",
      "test_vars[\"increase_on_send\"]=1\n",
      "test_vars[\"state_array_length\"]=10\n",
      "test_vars[\"neighborhood_size\"]=10\n",
      "test_vars[\"starting_entropy\"]=50\n",
      "\n",
      "e = Entity(test_vars)\n",
      "print e.state\n",
      "print e.entropy\n",
      "print e.send()\n",
      "print e.entropy\n",
      "e.receive()\n",
      "print e.entropy\n",
      "print e.send()\n",
      "print e.send()\n",
      "print e.send()\n",
      "print e.send()"
     ],
     "language": "python",
     "metadata": {},
     "outputs": [
      {
       "output_type": "stream",
       "stream": "stdout",
       "text": [
        "[(-9, 6), (-6, 4), (-1, -2), (-10, 9), (3, 4), (7, -4), (3, -10), (4, 6), (-5, 7), (-1, -10)]\n",
        "50\n",
        "[(-1, -10), 1]\n",
        "51\n",
        "49\n",
        "[(-5, 7), 1]\n",
        "[(4, 6), 1]\n",
        "[(4, 6), 0]\n",
        "[(4, 6), 0]\n"
       ]
      }
     ],
     "prompt_number": 49
    },
    {
     "cell_type": "heading",
     "level": 2,
     "metadata": {},
     "source": [
      "Landscape"
     ]
    },
    {
     "cell_type": "markdown",
     "metadata": {},
     "source": [
      "Now, let's create a landscape for entities to interact in. \n",
      "\n",
      "This landscape will be a 2-dimensional grid of arbitrary size. \n",
      "\n",
      "Each element in the grid will have a likelihood density of containing an entity.\n",
      "\n",
      "Upon initialization, the landscape will seed entities.\n",
      "\n",
      "It will include a \"Step\" function, which runs \"send\" commands on all entities and logs transaction and entropic information.\n",
      "\n",
      "It will include a \"run\" function, which runs the model through a given number of steps and returns the logs."
     ]
    },
    {
     "cell_type": "code",
     "collapsed": false,
     "input": [
      "class Landscape:\n",
      "    \n",
      "    #Initializes the landscape, creating entities in a 2d grid\n",
      "    def __init__(self, size, density,entity_vars):\n",
      "        self.transaction_log = []\n",
      "        self.entropy_log = []\n",
      "        self.switch_log = []\n",
      "        self.output_log = []\n",
      "        self.model = []\n",
      "        stepcount = 0\n",
      "        knockout = False\n",
      "        for i in xrange(0, size-1):\n",
      "            self.model.append([])\n",
      "            for j in xrange(0, size-1):\n",
      "                if (randint(0,100)<density):\n",
      "                    self.model[-1].append(Entity(entity_vars))\n",
      "                else:\n",
      "                    self.model[-1].append(0)\n",
      "                \n",
      "    #Runs through each entity, transmitting bits and loging information about the entity\n",
      "    def step(self):\n",
      "        stepcount += 1;\n",
      "        self.transaction_log.append([])\n",
      "        self.entropy_log.append([])\n",
      "        self.switch_log.append([])\n",
      "        self.output_log.append([])\n",
      "        for i in xrange(0,len(self.model)-1):\n",
      "            for j in xrange(0,len(self.model[i])-1):\n",
      "                if(self.model[i][j]):\n",
      "                    entity = self.model[i][j]\n",
      "                    if (entity.entropy < entity.max_entropy):\n",
      "                        if (stepcount > 6000):\n",
      "                            knockout = True\n",
      "                            entity.knockout();\n",
      "                        send = entity.send()\n",
      "                        t = send[0]\n",
      "                        self.switch_log[-1].append(send[1])\n",
      "                        tx = t[0]+i\n",
      "                        ty = t[1]+j\n",
      "                        while(tx >= len(self.model)):\n",
      "                            tx -= len(self.model)\n",
      "                        while(ty >= len(self.model[i])):\n",
      "                            ty -= len(self.model[i])\n",
      "\n",
      "                        target = self.model[tx][ty]\n",
      "                        if(target):\n",
      "                            target.receive()\n",
      "                            self.transaction_log[-1].append([(i,j),(tx,ty)])\n",
      "                            self.output_log[-1].append(0)\n",
      "                        else:\n",
      "                            self.output_log[-1].append(1)\n",
      "                    else:\n",
      "                        self.output_log[-1].append(5)\n",
      "                        self.switch_log[-1].append(2)\n",
      "                    self.entropy_log[-1].append(entity.entropy)\n",
      "                    \n",
      "                    \n",
      "    def run(self, count):\n",
      "        for i in xrange(1,count):\n",
      "            self.step()\n",
      "        logs = {\"transaction_log\":self.transaction_log, \"entropy_log\":self.entropy_log, \n",
      "                \"output_log\":self.output_log, \"switch_log\":self.switch_log}\n",
      "        return logs"
     ],
     "language": "python",
     "metadata": {},
     "outputs": [],
     "prompt_number": 50
    },
    {
     "cell_type": "heading",
     "level": 3,
     "metadata": {},
     "source": [
      "Landscape Test"
     ]
    },
    {
     "cell_type": "code",
     "collapsed": false,
     "input": [
      "xset=[]\n",
      "yset=[]\n",
      "\n",
      "l = Landscape(100,5,test_vars)\n",
      "for i in xrange(0,len(l.model)-1):\n",
      "    for j in xrange(0,len(l.model[i])-1):\n",
      "        if (l.model[i][j]):\n",
      "            xset.append(i)\n",
      "            yset.append(j)\n",
      "\n",
      "plt.scatter(xset, yset)\n",
      "plt.show()\n",
      "\n",
      "l.step()\n",
      "print len(l.entropy_log[0])\n",
      "print len(l.transaction_log[0])\n",
      "\n",
      "logs = l.run(1000)\n",
      "print logs[\"transaction_log\"][-1]"
     ],
     "language": "python",
     "metadata": {},
     "outputs": [
      {
       "metadata": {},
       "output_type": "display_data",
       "png": "[encoded data removed]",
       "text": [
        "<matplotlib.figure.Figure at 0x7f2dbdaad590>"
       ]
      },
      {
       "ename": "UnboundLocalError",
       "evalue": "local variable 'stepcount' referenced before assignment",
       "output_type": "pyerr",
       "traceback": [
        "\u001b[1;31m---------------------------------------------------------------------------\u001b[0m\n\u001b[1;31mUnboundLocalError\u001b[0m                         Traceback (most recent call last)",
        "\u001b[1;32m<ipython-input-51-15964f37f796>\u001b[0m in \u001b[0;36m<module>\u001b[1;34m()\u001b[0m\n\u001b[0;32m     12\u001b[0m \u001b[0mplt\u001b[0m\u001b[1;33m.\u001b[0m\u001b[0mshow\u001b[0m\u001b[1;33m(\u001b[0m\u001b[1;33m)\u001b[0m\u001b[1;33m\u001b[0m\u001b[0m\n\u001b[0;32m     13\u001b[0m \u001b[1;33m\u001b[0m\u001b[0m\n\u001b[1;32m---> 14\u001b[1;33m \u001b[0ml\u001b[0m\u001b[1;33m.\u001b[0m\u001b[0mstep\u001b[0m\u001b[1;33m(\u001b[0m\u001b[1;33m)\u001b[0m\u001b[1;33m\u001b[0m\u001b[0m\n\u001b[0m\u001b[0;32m     15\u001b[0m \u001b[1;32mprint\u001b[0m \u001b[0mlen\u001b[0m\u001b[1;33m(\u001b[0m\u001b[0ml\u001b[0m\u001b[1;33m.\u001b[0m\u001b[0mentropy_log\u001b[0m\u001b[1;33m[\u001b[0m\u001b[1;36m0\u001b[0m\u001b[1;33m]\u001b[0m\u001b[1;33m)\u001b[0m\u001b[1;33m\u001b[0m\u001b[0m\n\u001b[0;32m     16\u001b[0m \u001b[1;32mprint\u001b[0m \u001b[0mlen\u001b[0m\u001b[1;33m(\u001b[0m\u001b[0ml\u001b[0m\u001b[1;33m.\u001b[0m\u001b[0mtransaction_log\u001b[0m\u001b[1;33m[\u001b[0m\u001b[1;36m0\u001b[0m\u001b[1;33m]\u001b[0m\u001b[1;33m)\u001b[0m\u001b[1;33m\u001b[0m\u001b[0m\n",
        "\u001b[1;32m<ipython-input-50-61a972479fe8>\u001b[0m in \u001b[0;36mstep\u001b[1;34m(self)\u001b[0m\n\u001b[0;32m     20\u001b[0m     \u001b[1;31m#Runs through each entity, transmitting bits and loging information about the entity\u001b[0m\u001b[1;33m\u001b[0m\u001b[1;33m\u001b[0m\u001b[0m\n\u001b[0;32m     21\u001b[0m     \u001b[1;32mdef\u001b[0m \u001b[0mstep\u001b[0m\u001b[1;33m(\u001b[0m\u001b[0mself\u001b[0m\u001b[1;33m)\u001b[0m\u001b[1;33m:\u001b[0m\u001b[1;33m\u001b[0m\u001b[0m\n\u001b[1;32m---> 22\u001b[1;33m         \u001b[0mstepcount\u001b[0m \u001b[1;33m+=\u001b[0m \u001b[1;36m1\u001b[0m\u001b[1;33m;\u001b[0m\u001b[1;33m\u001b[0m\u001b[0m\n\u001b[0m\u001b[0;32m     23\u001b[0m         \u001b[0mself\u001b[0m\u001b[1;33m.\u001b[0m\u001b[0mtransaction_log\u001b[0m\u001b[1;33m.\u001b[0m\u001b[0mappend\u001b[0m\u001b[1;33m(\u001b[0m\u001b[1;33m[\u001b[0m\u001b[1;33m]\u001b[0m\u001b[1;33m)\u001b[0m\u001b[1;33m\u001b[0m\u001b[0m\n\u001b[0;32m     24\u001b[0m         \u001b[0mself\u001b[0m\u001b[1;33m.\u001b[0m\u001b[0mentropy_log\u001b[0m\u001b[1;33m.\u001b[0m\u001b[0mappend\u001b[0m\u001b[1;33m(\u001b[0m\u001b[1;33m[\u001b[0m\u001b[1;33m]\u001b[0m\u001b[1;33m)\u001b[0m\u001b[1;33m\u001b[0m\u001b[0m\n",
        "\u001b[1;31mUnboundLocalError\u001b[0m: local variable 'stepcount' referenced before assignment"
       ]
      }
     ],
     "prompt_number": 51
    },
    {
     "cell_type": "heading",
     "level": 2,
     "metadata": {},
     "source": [
      "Visualization"
     ]
    },
    {
     "cell_type": "markdown",
     "metadata": {},
     "source": [
      "Finally, let's create a set of functions to visualize our results. First, we'll import some libraries:"
     ]
    },
    {
     "cell_type": "code",
     "collapsed": false,
     "input": [
      "%pylab inline\n",
      "import matplotlib.pyplot as plt\n",
      "import numpy as np"
     ],
     "language": "python",
     "metadata": {},
     "outputs": [
      {
       "output_type": "stream",
       "stream": "stdout",
       "text": [
        "Populating the interactive namespace from numpy and matplotlib\n"
       ]
      },
      {
       "output_type": "stream",
       "stream": "stderr",
       "text": [
        "WARNING: pylab import has clobbered these variables: ['title', 'e']\n",
        "`%matplotlib` prevents importing * from pylab and numpy\n"
       ]
      }
     ],
     "prompt_number": 52
    },
    {
     "cell_type": "heading",
     "level": 3,
     "metadata": {},
     "source": [
      "Landscape Map"
     ]
    },
    {
     "cell_type": "code",
     "collapsed": false,
     "input": [
      "def landscapemap(l, title=\"\"):\n",
      "    xset=[]\n",
      "    yset=[]\n",
      "    for i in xrange(0,len(l.model)-1):\n",
      "        for j in xrange(0,len(l.model[i])-1):\n",
      "            if (l.model[i][j]):\n",
      "                xset.append(i)\n",
      "                yset.append(j)\n",
      "    fig, axes = plt.subplots(figsize=(12,12))\n",
      "    axes.scatter(xset, yset)\n",
      "    axes.set_xlim([-1,max(xset)+1])\n",
      "    axes.set_ylim([-1,max(yset)+1])\n",
      "    axes.set_title(title)\n",
      "    return axes"
     ],
     "language": "python",
     "metadata": {},
     "outputs": [],
     "prompt_number": 53
    },
    {
     "cell_type": "code",
     "collapsed": false,
     "input": [
      "l = Landscape(50,80,test_vars)\n",
      "landscapemap(l,\"A nifty landscape\")"
     ],
     "language": "python",
     "metadata": {},
     "outputs": [
      {
       "metadata": {},
       "output_type": "pyout",
       "prompt_number": 54,
       "text": [
        "<matplotlib.axes._subplots.AxesSubplot at 0x7f2dd80c11d0>"
       ]
      },
      {
       "metadata": {},
       "output_type": "display_data",
       "png": "[encoded data removed]",
       "text": [
        "<matplotlib.figure.Figure at 0x7f2dd8195e10>"
       ]
      }
     ],
     "prompt_number": 54
    },
    {
     "cell_type": "heading",
     "level": 3,
     "metadata": {},
     "source": [
      "Line Graph"
     ]
    },
    {
     "cell_type": "markdown",
     "metadata": {},
     "source": [
      "Accepts an array of integers. We'll assume that the x axis is steps"
     ]
    },
    {
     "cell_type": "code",
     "collapsed": false,
     "input": [
      "def linegraph(nums, title=\"\"):\n",
      "    fig, axes = plt.subplots(figsize=(16,8))\n",
      "    axes.plot(xrange(0,len(nums)), nums)\n",
      "    axes.set_title(title)"
     ],
     "language": "python",
     "metadata": {},
     "outputs": [],
     "prompt_number": 55
    },
    {
     "cell_type": "code",
     "collapsed": false,
     "input": [
      "nums = xrange(0,100)\n",
      "title = \"A test line graph\"\n",
      "linegraph(nums,title)"
     ],
     "language": "python",
     "metadata": {},
     "outputs": [
      {
       "metadata": {},
       "output_type": "display_data",
       "png": "[encoded data removed]",
       "text": [
        "<matplotlib.figure.Figure at 0x7f2dbcc55910>"
       ]
      }
     ],
     "prompt_number": 56
    },
    {
     "cell_type": "heading",
     "level": 3,
     "metadata": {},
     "source": [
      "Phase Space Map"
     ]
    },
    {
     "cell_type": "markdown",
     "metadata": {},
     "source": [
      "Accepts 2d array (presumably entropy_log) and prints a colored phase space diagram.\n",
      "Colors indicate values between a certain threshhold."
     ]
    },
    {
     "cell_type": "code",
     "collapsed": false,
     "input": [
      "from itertools import cycle\n",
      "\n",
      "def getx(xy):\n",
      "    return xy[0]\n",
      "\n",
      "def gety(xy):\n",
      "    return xy[1]\n",
      "\n",
      "def phasespacemap(values, dividers, title=\"\", sort = True, mode=\"delta\"):\n",
      "    if mode == \"delta\":\n",
      "        sets = [[]]\n",
      "    elif mode==\"equals\":\n",
      "        sets = []\n",
      "    for d in dividers:\n",
      "        sets.append([])\n",
      "    \n",
      "    if (mode == \"delta\"):\n",
      "        #Assign points to sets based on which divider they're a part of\n",
      "        for i in xrange(0,len(values)-1):\n",
      "            if sort:\n",
      "                values[i].sort()\n",
      "            for j in xrange(0,len(values[i])-1):\n",
      "                for k in xrange(0,len(dividers)):\n",
      "                    val = values[i][j]\n",
      "                    if k == len(dividers):\n",
      "                        if val > dividers[-1]:\n",
      "                            sets[k].append((i,j))\n",
      "                    elif k == 0:\n",
      "                        if val < dividers[k]:\n",
      "                            sets[k].append((i,j))\n",
      "                    elif val <= dividers[k] and val >= dividers[k-1]:\n",
      "                        sets[k].append((i,j))\n",
      "    elif (mode==\"equals\"):\n",
      "        for i in xrange(0,len(values)-1):\n",
      "            if sort:\n",
      "                values[i].sort()\n",
      "            for j in xrange(0,len(values[i])-1):\n",
      "                for k in xrange(0,len(dividers)):\n",
      "                    val = values[i][j]\n",
      "                    if val == dividers[k]:\n",
      "                            sets[k].append((i,j))\n",
      "                            \n",
      "    #Set up an array of colors\n",
      "    colors=cycle([\"b\",\"g\",\"r\",\"m\",\"c\",\"y\",\"k\",\"grey\", \"black\"])\n",
      "    \n",
      "    fig, axes = plt.subplots(figsize=(15,15))\n",
      "    axes.set_title(title)\n",
      "    #Plot each set as s different color\n",
      "    maxx = 0\n",
      "    maxy = 0\n",
      "    for i in xrange(0,len(sets)-1):\n",
      "        xset = []\n",
      "        yset = []\n",
      "        if len(sets[i]) > 0:\n",
      "            xset=map(getx,sets[i])\n",
      "            yset=map(gety,sets[i])\n",
      "            c = colors.next()\n",
      "            if mode == \"delta\":\n",
      "                if i < len(dividers):\n",
      "                    lbl = \"< \" + str(dividers[i])\n",
      "                else:\n",
      "                    lbl = \"> \" + str(dividers[-1])\n",
      "            elif mode == \"equals\":\n",
      "                 lbl = str(dividers[i])\n",
      "            axes.scatter(xset, yset, color=c, label=lbl, marker=',', s=1 )\n",
      "            axes.legend(loc=1)\n",
      "            maxx = max([maxx, max(xset)])\n",
      "            maxy = max([maxy, max(yset)])\n",
      "    axes.set_xlim([-1,maxx+1])\n",
      "    axes.set_ylim([-1,maxy+1])\n",
      "    plt.show()"
     ],
     "language": "python",
     "metadata": {},
     "outputs": [],
     "prompt_number": 57
    },
    {
     "cell_type": "code",
     "collapsed": false,
     "input": [
      "l = Landscape(40, 50, test_vars)\n",
      "logs = l.run(20)\n",
      "dividers=[i*10 for i in xrange(0,10)]\n",
      "phasespacemap(logs[\"entropy_log\"], dividers, \"Test map\")"
     ],
     "language": "python",
     "metadata": {},
     "outputs": [
      {
       "ename": "UnboundLocalError",
       "evalue": "local variable 'stepcount' referenced before assignment",
       "output_type": "pyerr",
       "traceback": [
        "\u001b[1;31m---------------------------------------------------------------------------\u001b[0m\n\u001b[1;31mUnboundLocalError\u001b[0m                         Traceback (most recent call last)",
        "\u001b[1;32m<ipython-input-58-ea836cbbdf14>\u001b[0m in \u001b[0;36m<module>\u001b[1;34m()\u001b[0m\n\u001b[0;32m      1\u001b[0m \u001b[0ml\u001b[0m \u001b[1;33m=\u001b[0m \u001b[0mLandscape\u001b[0m\u001b[1;33m(\u001b[0m\u001b[1;36m40\u001b[0m\u001b[1;33m,\u001b[0m \u001b[1;36m50\u001b[0m\u001b[1;33m,\u001b[0m \u001b[0mtest_vars\u001b[0m\u001b[1;33m)\u001b[0m\u001b[1;33m\u001b[0m\u001b[0m\n\u001b[1;32m----> 2\u001b[1;33m \u001b[0mlogs\u001b[0m \u001b[1;33m=\u001b[0m \u001b[0ml\u001b[0m\u001b[1;33m.\u001b[0m\u001b[0mrun\u001b[0m\u001b[1;33m(\u001b[0m\u001b[1;36m20\u001b[0m\u001b[1;33m)\u001b[0m\u001b[1;33m\u001b[0m\u001b[0m\n\u001b[0m\u001b[0;32m      3\u001b[0m \u001b[0mdividers\u001b[0m\u001b[1;33m=\u001b[0m\u001b[1;33m[\u001b[0m\u001b[0mi\u001b[0m\u001b[1;33m*\u001b[0m\u001b[1;36m10\u001b[0m \u001b[1;32mfor\u001b[0m \u001b[0mi\u001b[0m \u001b[1;32min\u001b[0m \u001b[0mxrange\u001b[0m\u001b[1;33m(\u001b[0m\u001b[1;36m0\u001b[0m\u001b[1;33m,\u001b[0m\u001b[1;36m10\u001b[0m\u001b[1;33m)\u001b[0m\u001b[1;33m]\u001b[0m\u001b[1;33m\u001b[0m\u001b[0m\n\u001b[0;32m      4\u001b[0m \u001b[0mphasespacemap\u001b[0m\u001b[1;33m(\u001b[0m\u001b[0mlogs\u001b[0m\u001b[1;33m[\u001b[0m\u001b[1;34m\"entropy_log\"\u001b[0m\u001b[1;33m]\u001b[0m\u001b[1;33m,\u001b[0m \u001b[0mdividers\u001b[0m\u001b[1;33m,\u001b[0m \u001b[1;34m\"Test map\"\u001b[0m\u001b[1;33m)\u001b[0m\u001b[1;33m\u001b[0m\u001b[0m\n",
        "\u001b[1;32m<ipython-input-50-61a972479fe8>\u001b[0m in \u001b[0;36mrun\u001b[1;34m(self, count)\u001b[0m\n\u001b[0;32m     58\u001b[0m     \u001b[1;32mdef\u001b[0m \u001b[0mrun\u001b[0m\u001b[1;33m(\u001b[0m\u001b[0mself\u001b[0m\u001b[1;33m,\u001b[0m \u001b[0mcount\u001b[0m\u001b[1;33m)\u001b[0m\u001b[1;33m:\u001b[0m\u001b[1;33m\u001b[0m\u001b[0m\n\u001b[0;32m     59\u001b[0m         \u001b[1;32mfor\u001b[0m \u001b[0mi\u001b[0m \u001b[1;32min\u001b[0m \u001b[0mxrange\u001b[0m\u001b[1;33m(\u001b[0m\u001b[1;36m1\u001b[0m\u001b[1;33m,\u001b[0m\u001b[0mcount\u001b[0m\u001b[1;33m)\u001b[0m\u001b[1;33m:\u001b[0m\u001b[1;33m\u001b[0m\u001b[0m\n\u001b[1;32m---> 60\u001b[1;33m             \u001b[0mself\u001b[0m\u001b[1;33m.\u001b[0m\u001b[0mstep\u001b[0m\u001b[1;33m(\u001b[0m\u001b[1;33m)\u001b[0m\u001b[1;33m\u001b[0m\u001b[0m\n\u001b[0m\u001b[0;32m     61\u001b[0m         logs = {\"transaction_log\":self.transaction_log, \"entropy_log\":self.entropy_log, \n\u001b[0;32m     62\u001b[0m                 \"output_log\":self.output_log, \"switch_log\":self.switch_log}\n",
        "\u001b[1;32m<ipython-input-50-61a972479fe8>\u001b[0m in \u001b[0;36mstep\u001b[1;34m(self)\u001b[0m\n\u001b[0;32m     20\u001b[0m     \u001b[1;31m#Runs through each entity, transmitting bits and loging information about the entity\u001b[0m\u001b[1;33m\u001b[0m\u001b[1;33m\u001b[0m\u001b[0m\n\u001b[0;32m     21\u001b[0m     \u001b[1;32mdef\u001b[0m \u001b[0mstep\u001b[0m\u001b[1;33m(\u001b[0m\u001b[0mself\u001b[0m\u001b[1;33m)\u001b[0m\u001b[1;33m:\u001b[0m\u001b[1;33m\u001b[0m\u001b[0m\n\u001b[1;32m---> 22\u001b[1;33m         \u001b[0mstepcount\u001b[0m \u001b[1;33m+=\u001b[0m \u001b[1;36m1\u001b[0m\u001b[1;33m;\u001b[0m\u001b[1;33m\u001b[0m\u001b[0m\n\u001b[0m\u001b[0;32m     23\u001b[0m         \u001b[0mself\u001b[0m\u001b[1;33m.\u001b[0m\u001b[0mtransaction_log\u001b[0m\u001b[1;33m.\u001b[0m\u001b[0mappend\u001b[0m\u001b[1;33m(\u001b[0m\u001b[1;33m[\u001b[0m\u001b[1;33m]\u001b[0m\u001b[1;33m)\u001b[0m\u001b[1;33m\u001b[0m\u001b[0m\n\u001b[0;32m     24\u001b[0m         \u001b[0mself\u001b[0m\u001b[1;33m.\u001b[0m\u001b[0mentropy_log\u001b[0m\u001b[1;33m.\u001b[0m\u001b[0mappend\u001b[0m\u001b[1;33m(\u001b[0m\u001b[1;33m[\u001b[0m\u001b[1;33m]\u001b[0m\u001b[1;33m)\u001b[0m\u001b[1;33m\u001b[0m\u001b[0m\n",
        "\u001b[1;31mUnboundLocalError\u001b[0m: local variable 'stepcount' referenced before assignment"
       ]
      }
     ],
     "prompt_number": 58
    },
    {
     "cell_type": "heading",
     "level": 3,
     "metadata": {},
     "source": [
      "Animated Graph"
     ]
    },
    {
     "cell_type": "markdown",
     "metadata": {},
     "source": [
      "Last but definitely not least, an animated graph of transactions ocurring in the model."
     ]
    },
    {
     "cell_type": "code",
     "collapsed": false,
     "input": [
      "from matplotlib import animation\n",
      "\n",
      "def networkview(transaction_log, landscape, title=\"\"):\n",
      "    \n",
      "    # initialization function: plot the background of each frame\n",
      "    def init():\n",
      "        axes = landscapemap(landscape, title)\n",
      "        return axes\n",
      "\n",
      "    # animation function.  This is called sequentially\n",
      "    def animate(i):\n",
      "        for t in transaction_log[0]:\n",
      "            line, = axes.plot([t[0][0],t[1][0]],[t[0][1],t[1][1]],\"b\")\n",
      "            axes.add_line(line)\n",
      "        return axes\n",
      "\n",
      "    # call the animator.  blit=True means only re-draw the parts that have changed.\n",
      "    anim = animation.FuncAnimation(fig, animate, init_func=init,\n",
      "                                   frames=200, interval=20, blit=True)\n",
      "    plt.show()"
     ],
     "language": "python",
     "metadata": {},
     "outputs": [],
     "prompt_number": 59
    },
    {
     "cell_type": "markdown",
     "metadata": {},
     "source": [
      "Further investigation shows that this is crazy hard, and dependant on strange other conditions within the system. Holding off on this for now, since it's cool but not strictly necessary. May look to do network modelling of transaction graphs instead later on..."
     ]
    },
    {
     "cell_type": "heading",
     "level": 1,
     "metadata": {},
     "source": [
      "Experiments"
     ]
    },
    {
     "cell_type": "markdown",
     "metadata": {},
     "source": [
      "Now it's time for the good stuff."
     ]
    },
    {
     "cell_type": "heading",
     "level": 3,
     "metadata": {},
     "source": [
      "Median Entropy Test"
     ]
    },
    {
     "cell_type": "markdown",
     "metadata": {},
     "source": [
      "For a range of starting entropies, what is the median antropy after 100 steps? After 200?"
     ]
    },
    {
     "cell_type": "code",
     "collapsed": false,
     "input": [
      "config = {}\n",
      "config[\"max_entropy\"]=100\n",
      "config[\"reduction_on_receive\"]=2\n",
      "config[\"increase_on_send\"]=1\n",
      "config[\"state_array_length\"]=10\n",
      "config[\"neighborhood_size\"]=10\n",
      "\n",
      "data = []\n",
      "\n",
      "for i in range(0,10):\n",
      "    config[\"starting_entropy\"]=i*10\n",
      "    l = Landscape(50,50,config)\n",
      "    logs = l.run(500)\n",
      "    data.append(median(logs[\"entropy_log\"][-1]))\n",
      "    \n",
      "linegraph(data,\"Impact of Starting Entropy on Ending Entropy\")"
     ],
     "language": "python",
     "metadata": {},
     "outputs": [
      {
       "ename": "UnboundLocalError",
       "evalue": "local variable 'stepcount' referenced before assignment",
       "output_type": "pyerr",
       "traceback": [
        "\u001b[1;31m---------------------------------------------------------------------------\u001b[0m\n\u001b[1;31mUnboundLocalError\u001b[0m                         Traceback (most recent call last)",
        "\u001b[1;32m<ipython-input-60-67703de1aa6b>\u001b[0m in \u001b[0;36m<module>\u001b[1;34m()\u001b[0m\n\u001b[0;32m     11\u001b[0m     \u001b[0mconfig\u001b[0m\u001b[1;33m[\u001b[0m\u001b[1;34m\"starting_entropy\"\u001b[0m\u001b[1;33m]\u001b[0m\u001b[1;33m=\u001b[0m\u001b[0mi\u001b[0m\u001b[1;33m*\u001b[0m\u001b[1;36m10\u001b[0m\u001b[1;33m\u001b[0m\u001b[0m\n\u001b[0;32m     12\u001b[0m     \u001b[0ml\u001b[0m \u001b[1;33m=\u001b[0m \u001b[0mLandscape\u001b[0m\u001b[1;33m(\u001b[0m\u001b[1;36m50\u001b[0m\u001b[1;33m,\u001b[0m\u001b[1;36m50\u001b[0m\u001b[1;33m,\u001b[0m\u001b[0mconfig\u001b[0m\u001b[1;33m)\u001b[0m\u001b[1;33m\u001b[0m\u001b[0m\n\u001b[1;32m---> 13\u001b[1;33m     \u001b[0mlogs\u001b[0m \u001b[1;33m=\u001b[0m \u001b[0ml\u001b[0m\u001b[1;33m.\u001b[0m\u001b[0mrun\u001b[0m\u001b[1;33m(\u001b[0m\u001b[1;36m500\u001b[0m\u001b[1;33m)\u001b[0m\u001b[1;33m\u001b[0m\u001b[0m\n\u001b[0m\u001b[0;32m     14\u001b[0m     \u001b[0mdata\u001b[0m\u001b[1;33m.\u001b[0m\u001b[0mappend\u001b[0m\u001b[1;33m(\u001b[0m\u001b[0mmedian\u001b[0m\u001b[1;33m(\u001b[0m\u001b[0mlogs\u001b[0m\u001b[1;33m[\u001b[0m\u001b[1;34m\"entropy_log\"\u001b[0m\u001b[1;33m]\u001b[0m\u001b[1;33m[\u001b[0m\u001b[1;33m-\u001b[0m\u001b[1;36m1\u001b[0m\u001b[1;33m]\u001b[0m\u001b[1;33m)\u001b[0m\u001b[1;33m)\u001b[0m\u001b[1;33m\u001b[0m\u001b[0m\n\u001b[0;32m     15\u001b[0m \u001b[1;33m\u001b[0m\u001b[0m\n",
        "\u001b[1;32m<ipython-input-50-61a972479fe8>\u001b[0m in \u001b[0;36mrun\u001b[1;34m(self, count)\u001b[0m\n\u001b[0;32m     58\u001b[0m     \u001b[1;32mdef\u001b[0m \u001b[0mrun\u001b[0m\u001b[1;33m(\u001b[0m\u001b[0mself\u001b[0m\u001b[1;33m,\u001b[0m \u001b[0mcount\u001b[0m\u001b[1;33m)\u001b[0m\u001b[1;33m:\u001b[0m\u001b[1;33m\u001b[0m\u001b[0m\n\u001b[0;32m     59\u001b[0m         \u001b[1;32mfor\u001b[0m \u001b[0mi\u001b[0m \u001b[1;32min\u001b[0m \u001b[0mxrange\u001b[0m\u001b[1;33m(\u001b[0m\u001b[1;36m1\u001b[0m\u001b[1;33m,\u001b[0m\u001b[0mcount\u001b[0m\u001b[1;33m)\u001b[0m\u001b[1;33m:\u001b[0m\u001b[1;33m\u001b[0m\u001b[0m\n\u001b[1;32m---> 60\u001b[1;33m             \u001b[0mself\u001b[0m\u001b[1;33m.\u001b[0m\u001b[0mstep\u001b[0m\u001b[1;33m(\u001b[0m\u001b[1;33m)\u001b[0m\u001b[1;33m\u001b[0m\u001b[0m\n\u001b[0m\u001b[0;32m     61\u001b[0m         logs = {\"transaction_log\":self.transaction_log, \"entropy_log\":self.entropy_log, \n\u001b[0;32m     62\u001b[0m                 \"output_log\":self.output_log, \"switch_log\":self.switch_log}\n",
        "\u001b[1;32m<ipython-input-50-61a972479fe8>\u001b[0m in \u001b[0;36mstep\u001b[1;34m(self)\u001b[0m\n\u001b[0;32m     20\u001b[0m     \u001b[1;31m#Runs through each entity, transmitting bits and loging information about the entity\u001b[0m\u001b[1;33m\u001b[0m\u001b[1;33m\u001b[0m\u001b[0m\n\u001b[0;32m     21\u001b[0m     \u001b[1;32mdef\u001b[0m \u001b[0mstep\u001b[0m\u001b[1;33m(\u001b[0m\u001b[0mself\u001b[0m\u001b[1;33m)\u001b[0m\u001b[1;33m:\u001b[0m\u001b[1;33m\u001b[0m\u001b[0m\n\u001b[1;32m---> 22\u001b[1;33m         \u001b[0mstepcount\u001b[0m \u001b[1;33m+=\u001b[0m \u001b[1;36m1\u001b[0m\u001b[1;33m;\u001b[0m\u001b[1;33m\u001b[0m\u001b[0m\n\u001b[0m\u001b[0;32m     23\u001b[0m         \u001b[0mself\u001b[0m\u001b[1;33m.\u001b[0m\u001b[0mtransaction_log\u001b[0m\u001b[1;33m.\u001b[0m\u001b[0mappend\u001b[0m\u001b[1;33m(\u001b[0m\u001b[1;33m[\u001b[0m\u001b[1;33m]\u001b[0m\u001b[1;33m)\u001b[0m\u001b[1;33m\u001b[0m\u001b[0m\n\u001b[0;32m     24\u001b[0m         \u001b[0mself\u001b[0m\u001b[1;33m.\u001b[0m\u001b[0mentropy_log\u001b[0m\u001b[1;33m.\u001b[0m\u001b[0mappend\u001b[0m\u001b[1;33m(\u001b[0m\u001b[1;33m[\u001b[0m\u001b[1;33m]\u001b[0m\u001b[1;33m)\u001b[0m\u001b[1;33m\u001b[0m\u001b[0m\n",
        "\u001b[1;31mUnboundLocalError\u001b[0m: local variable 'stepcount' referenced before assignment"
       ]
      }
     ],
     "prompt_number": 60
    },
    {
     "cell_type": "markdown",
     "metadata": {},
     "source": [
      "Interesting, though they seem to indicate an interesting relationship with density. Trying that next...."
     ]
    },
    {
     "cell_type": "heading",
     "level": 3,
     "metadata": {},
     "source": [
      "Network Density Test"
     ]
    },
    {
     "cell_type": "markdown",
     "metadata": {},
     "source": [
      "Measures the impact of network density on the model."
     ]
    },
    {
     "cell_type": "code",
     "collapsed": false,
     "input": [
      "config = {}\n",
      "config[\"max_entropy\"]=100\n",
      "config[\"reduction_on_receive\"]=2\n",
      "config[\"increase_on_send\"]=1\n",
      "config[\"state_array_length\"]=10\n",
      "config[\"neighborhood_size\"]=10\n",
      "config[\"starting_entropy\"]=60\n",
      "\n",
      "data = []\n",
      "\n",
      "for i in range(20,60):\n",
      "    l = Landscape(50,i*2,config)\n",
      "    logs = l.run(200)\n",
      "    data.append(median(logs[\"entropy_log\"][-1]))\n",
      "    \n",
      "linegraph(data,\"Impact of Network Density on Ending Entropy\")"
     ],
     "language": "python",
     "metadata": {},
     "outputs": [
      {
       "ename": "UnboundLocalError",
       "evalue": "local variable 'stepcount' referenced before assignment",
       "output_type": "pyerr",
       "traceback": [
        "\u001b[1;31m---------------------------------------------------------------------------\u001b[0m\n\u001b[1;31mUnboundLocalError\u001b[0m                         Traceback (most recent call last)",
        "\u001b[1;32m<ipython-input-61-9858afc7de37>\u001b[0m in \u001b[0;36m<module>\u001b[1;34m()\u001b[0m\n\u001b[0;32m     11\u001b[0m \u001b[1;32mfor\u001b[0m \u001b[0mi\u001b[0m \u001b[1;32min\u001b[0m \u001b[0mrange\u001b[0m\u001b[1;33m(\u001b[0m\u001b[1;36m20\u001b[0m\u001b[1;33m,\u001b[0m\u001b[1;36m60\u001b[0m\u001b[1;33m)\u001b[0m\u001b[1;33m:\u001b[0m\u001b[1;33m\u001b[0m\u001b[0m\n\u001b[0;32m     12\u001b[0m     \u001b[0ml\u001b[0m \u001b[1;33m=\u001b[0m \u001b[0mLandscape\u001b[0m\u001b[1;33m(\u001b[0m\u001b[1;36m50\u001b[0m\u001b[1;33m,\u001b[0m\u001b[0mi\u001b[0m\u001b[1;33m*\u001b[0m\u001b[1;36m2\u001b[0m\u001b[1;33m,\u001b[0m\u001b[0mconfig\u001b[0m\u001b[1;33m)\u001b[0m\u001b[1;33m\u001b[0m\u001b[0m\n\u001b[1;32m---> 13\u001b[1;33m     \u001b[0mlogs\u001b[0m \u001b[1;33m=\u001b[0m \u001b[0ml\u001b[0m\u001b[1;33m.\u001b[0m\u001b[0mrun\u001b[0m\u001b[1;33m(\u001b[0m\u001b[1;36m200\u001b[0m\u001b[1;33m)\u001b[0m\u001b[1;33m\u001b[0m\u001b[0m\n\u001b[0m\u001b[0;32m     14\u001b[0m     \u001b[0mdata\u001b[0m\u001b[1;33m.\u001b[0m\u001b[0mappend\u001b[0m\u001b[1;33m(\u001b[0m\u001b[0mmedian\u001b[0m\u001b[1;33m(\u001b[0m\u001b[0mlogs\u001b[0m\u001b[1;33m[\u001b[0m\u001b[1;34m\"entropy_log\"\u001b[0m\u001b[1;33m]\u001b[0m\u001b[1;33m[\u001b[0m\u001b[1;33m-\u001b[0m\u001b[1;36m1\u001b[0m\u001b[1;33m]\u001b[0m\u001b[1;33m)\u001b[0m\u001b[1;33m)\u001b[0m\u001b[1;33m\u001b[0m\u001b[0m\n\u001b[0;32m     15\u001b[0m \u001b[1;33m\u001b[0m\u001b[0m\n",
        "\u001b[1;32m<ipython-input-50-61a972479fe8>\u001b[0m in \u001b[0;36mrun\u001b[1;34m(self, count)\u001b[0m\n\u001b[0;32m     58\u001b[0m     \u001b[1;32mdef\u001b[0m \u001b[0mrun\u001b[0m\u001b[1;33m(\u001b[0m\u001b[0mself\u001b[0m\u001b[1;33m,\u001b[0m \u001b[0mcount\u001b[0m\u001b[1;33m)\u001b[0m\u001b[1;33m:\u001b[0m\u001b[1;33m\u001b[0m\u001b[0m\n\u001b[0;32m     59\u001b[0m         \u001b[1;32mfor\u001b[0m \u001b[0mi\u001b[0m \u001b[1;32min\u001b[0m \u001b[0mxrange\u001b[0m\u001b[1;33m(\u001b[0m\u001b[1;36m1\u001b[0m\u001b[1;33m,\u001b[0m\u001b[0mcount\u001b[0m\u001b[1;33m)\u001b[0m\u001b[1;33m:\u001b[0m\u001b[1;33m\u001b[0m\u001b[0m\n\u001b[1;32m---> 60\u001b[1;33m             \u001b[0mself\u001b[0m\u001b[1;33m.\u001b[0m\u001b[0mstep\u001b[0m\u001b[1;33m(\u001b[0m\u001b[1;33m)\u001b[0m\u001b[1;33m\u001b[0m\u001b[0m\n\u001b[0m\u001b[0;32m     61\u001b[0m         logs = {\"transaction_log\":self.transaction_log, \"entropy_log\":self.entropy_log, \n\u001b[0;32m     62\u001b[0m                 \"output_log\":self.output_log, \"switch_log\":self.switch_log}\n",
        "\u001b[1;32m<ipython-input-50-61a972479fe8>\u001b[0m in \u001b[0;36mstep\u001b[1;34m(self)\u001b[0m\n\u001b[0;32m     20\u001b[0m     \u001b[1;31m#Runs through each entity, transmitting bits and loging information about the entity\u001b[0m\u001b[1;33m\u001b[0m\u001b[1;33m\u001b[0m\u001b[0m\n\u001b[0;32m     21\u001b[0m     \u001b[1;32mdef\u001b[0m \u001b[0mstep\u001b[0m\u001b[1;33m(\u001b[0m\u001b[0mself\u001b[0m\u001b[1;33m)\u001b[0m\u001b[1;33m:\u001b[0m\u001b[1;33m\u001b[0m\u001b[0m\n\u001b[1;32m---> 22\u001b[1;33m         \u001b[0mstepcount\u001b[0m \u001b[1;33m+=\u001b[0m \u001b[1;36m1\u001b[0m\u001b[1;33m;\u001b[0m\u001b[1;33m\u001b[0m\u001b[0m\n\u001b[0m\u001b[0;32m     23\u001b[0m         \u001b[0mself\u001b[0m\u001b[1;33m.\u001b[0m\u001b[0mtransaction_log\u001b[0m\u001b[1;33m.\u001b[0m\u001b[0mappend\u001b[0m\u001b[1;33m(\u001b[0m\u001b[1;33m[\u001b[0m\u001b[1;33m]\u001b[0m\u001b[1;33m)\u001b[0m\u001b[1;33m\u001b[0m\u001b[0m\n\u001b[0;32m     24\u001b[0m         \u001b[0mself\u001b[0m\u001b[1;33m.\u001b[0m\u001b[0mentropy_log\u001b[0m\u001b[1;33m.\u001b[0m\u001b[0mappend\u001b[0m\u001b[1;33m(\u001b[0m\u001b[1;33m[\u001b[0m\u001b[1;33m]\u001b[0m\u001b[1;33m)\u001b[0m\u001b[1;33m\u001b[0m\u001b[0m\n",
        "\u001b[1;31mUnboundLocalError\u001b[0m: local variable 'stepcount' referenced before assignment"
       ]
      }
     ],
     "prompt_number": 61
    },
    {
     "cell_type": "heading",
     "level": 3,
     "metadata": {},
     "source": [
      "Close examination of Low and High Density Networks "
     ]
    },
    {
     "cell_type": "code",
     "collapsed": false,
     "input": [
      "config = {}\n",
      "config[\"max_entropy\"]=100\n",
      "config[\"reduction_on_receive\"]=2\n",
      "config[\"increase_on_send\"]=1\n",
      "config[\"state_array_length\"]=20\n",
      "config[\"neighborhood_size\"]=9\n",
      "config[\"starting_entropy\"]=0\n",
      "\n",
      "data = []\n",
      "\n",
      "l = Landscape(10,75,config)\n",
      "logs = l.run(15000)\n",
      "dividers=[i*10 for i in xrange(0,2)]\n",
      "phasespacemap(logs[\"entropy_log\"],dividers, \"Phase space map of mid density network with stable emergent properties.\", False)"
     ],
     "language": "python",
     "metadata": {},
     "outputs": [
      {
       "ename": "UnboundLocalError",
       "evalue": "local variable 'stepcount' referenced before assignment",
       "output_type": "pyerr",
       "traceback": [
        "\u001b[1;31m---------------------------------------------------------------------------\u001b[0m\n\u001b[1;31mUnboundLocalError\u001b[0m                         Traceback (most recent call last)",
        "\u001b[1;32m<ipython-input-46-db86895e6d38>\u001b[0m in \u001b[0;36m<module>\u001b[1;34m()\u001b[0m\n\u001b[0;32m     10\u001b[0m \u001b[1;33m\u001b[0m\u001b[0m\n\u001b[0;32m     11\u001b[0m \u001b[0ml\u001b[0m \u001b[1;33m=\u001b[0m \u001b[0mLandscape\u001b[0m\u001b[1;33m(\u001b[0m\u001b[1;36m10\u001b[0m\u001b[1;33m,\u001b[0m\u001b[1;36m75\u001b[0m\u001b[1;33m,\u001b[0m\u001b[0mconfig\u001b[0m\u001b[1;33m)\u001b[0m\u001b[1;33m\u001b[0m\u001b[0m\n\u001b[1;32m---> 12\u001b[1;33m \u001b[0mlogs\u001b[0m \u001b[1;33m=\u001b[0m \u001b[0ml\u001b[0m\u001b[1;33m.\u001b[0m\u001b[0mrun\u001b[0m\u001b[1;33m(\u001b[0m\u001b[1;36m15000\u001b[0m\u001b[1;33m)\u001b[0m\u001b[1;33m\u001b[0m\u001b[0m\n\u001b[0m\u001b[0;32m     13\u001b[0m \u001b[0mdividers\u001b[0m\u001b[1;33m=\u001b[0m\u001b[1;33m[\u001b[0m\u001b[0mi\u001b[0m\u001b[1;33m*\u001b[0m\u001b[1;36m10\u001b[0m \u001b[1;32mfor\u001b[0m \u001b[0mi\u001b[0m \u001b[1;32min\u001b[0m \u001b[0mxrange\u001b[0m\u001b[1;33m(\u001b[0m\u001b[1;36m0\u001b[0m\u001b[1;33m,\u001b[0m\u001b[1;36m2\u001b[0m\u001b[1;33m)\u001b[0m\u001b[1;33m]\u001b[0m\u001b[1;33m\u001b[0m\u001b[0m\n\u001b[0;32m     14\u001b[0m \u001b[0mphasespacemap\u001b[0m\u001b[1;33m(\u001b[0m\u001b[0mlogs\u001b[0m\u001b[1;33m[\u001b[0m\u001b[1;34m\"entropy_log\"\u001b[0m\u001b[1;33m]\u001b[0m\u001b[1;33m,\u001b[0m\u001b[0mdividers\u001b[0m\u001b[1;33m,\u001b[0m \u001b[1;34m\"Phase space map of mid density network with stable emergent properties.\"\u001b[0m\u001b[1;33m,\u001b[0m \u001b[0mFalse\u001b[0m\u001b[1;33m)\u001b[0m\u001b[1;33m\u001b[0m\u001b[0m\n",
        "\u001b[1;32m<ipython-input-45-61a972479fe8>\u001b[0m in \u001b[0;36mrun\u001b[1;34m(self, count)\u001b[0m\n\u001b[0;32m     58\u001b[0m     \u001b[1;32mdef\u001b[0m \u001b[0mrun\u001b[0m\u001b[1;33m(\u001b[0m\u001b[0mself\u001b[0m\u001b[1;33m,\u001b[0m \u001b[0mcount\u001b[0m\u001b[1;33m)\u001b[0m\u001b[1;33m:\u001b[0m\u001b[1;33m\u001b[0m\u001b[0m\n\u001b[0;32m     59\u001b[0m         \u001b[1;32mfor\u001b[0m \u001b[0mi\u001b[0m \u001b[1;32min\u001b[0m \u001b[0mxrange\u001b[0m\u001b[1;33m(\u001b[0m\u001b[1;36m1\u001b[0m\u001b[1;33m,\u001b[0m\u001b[0mcount\u001b[0m\u001b[1;33m)\u001b[0m\u001b[1;33m:\u001b[0m\u001b[1;33m\u001b[0m\u001b[0m\n\u001b[1;32m---> 60\u001b[1;33m             \u001b[0mself\u001b[0m\u001b[1;33m.\u001b[0m\u001b[0mstep\u001b[0m\u001b[1;33m(\u001b[0m\u001b[1;33m)\u001b[0m\u001b[1;33m\u001b[0m\u001b[0m\n\u001b[0m\u001b[0;32m     61\u001b[0m         logs = {\"transaction_log\":self.transaction_log, \"entropy_log\":self.entropy_log, \n\u001b[0;32m     62\u001b[0m                 \"output_log\":self.output_log, \"switch_log\":self.switch_log}\n",
        "\u001b[1;32m<ipython-input-45-61a972479fe8>\u001b[0m in \u001b[0;36mstep\u001b[1;34m(self)\u001b[0m\n\u001b[0;32m     20\u001b[0m     \u001b[1;31m#Runs through each entity, transmitting bits and loging information about the entity\u001b[0m\u001b[1;33m\u001b[0m\u001b[1;33m\u001b[0m\u001b[0m\n\u001b[0;32m     21\u001b[0m     \u001b[1;32mdef\u001b[0m \u001b[0mstep\u001b[0m\u001b[1;33m(\u001b[0m\u001b[0mself\u001b[0m\u001b[1;33m)\u001b[0m\u001b[1;33m:\u001b[0m\u001b[1;33m\u001b[0m\u001b[0m\n\u001b[1;32m---> 22\u001b[1;33m         \u001b[0mstepcount\u001b[0m \u001b[1;33m+=\u001b[0m \u001b[1;36m1\u001b[0m\u001b[1;33m;\u001b[0m\u001b[1;33m\u001b[0m\u001b[0m\n\u001b[0m\u001b[0;32m     23\u001b[0m         \u001b[0mself\u001b[0m\u001b[1;33m.\u001b[0m\u001b[0mtransaction_log\u001b[0m\u001b[1;33m.\u001b[0m\u001b[0mappend\u001b[0m\u001b[1;33m(\u001b[0m\u001b[1;33m[\u001b[0m\u001b[1;33m]\u001b[0m\u001b[1;33m)\u001b[0m\u001b[1;33m\u001b[0m\u001b[0m\n\u001b[0;32m     24\u001b[0m         \u001b[0mself\u001b[0m\u001b[1;33m.\u001b[0m\u001b[0mentropy_log\u001b[0m\u001b[1;33m.\u001b[0m\u001b[0mappend\u001b[0m\u001b[1;33m(\u001b[0m\u001b[1;33m[\u001b[0m\u001b[1;33m]\u001b[0m\u001b[1;33m)\u001b[0m\u001b[1;33m\u001b[0m\u001b[0m\n",
        "\u001b[1;31mUnboundLocalError\u001b[0m: local variable 'stepcount' referenced before assignment"
       ]
      }
     ],
     "prompt_number": 46
    },
    {
     "cell_type": "heading",
     "level": 3,
     "metadata": {},
     "source": [
      "Ending Entropy Curve"
     ]
    },
    {
     "cell_type": "markdown",
     "metadata": {},
     "source": [
      "There's something interesting going on at a density of 30, given our other variables. Let's look at a curve of the density of ending points..."
     ]
    },
    {
     "cell_type": "code",
     "collapsed": false,
     "input": [
      "config = {}\n",
      "config[\"max_entropy\"]=100\n",
      "config[\"reduction_on_receive\"]=2\n",
      "config[\"increase_on_send\"]=1\n",
      "config[\"state_array_length\"]=20\n",
      "config[\"neighborhood_size\"]=20\n",
      "config[\"starting_entropy\"]=0\n",
      "\n",
      "data = []\n",
      "\n",
      "l = Landscape(50,40,config)\n",
      "logs = l.run(1000)\n",
      "logs[\"entropy_log\"][-1].sort()\n",
      "print len(logs[\"entropy_log\"][-1])\n",
      "linegraph(logs[\"entropy_log\"][-1], \"Ending entropy curve of a 30 density entropy map.\")"
     ],
     "language": "python",
     "metadata": {},
     "outputs": [
      {
       "output_type": "stream",
       "stream": "stdout",
       "text": [
        "915\n"
       ]
      },
      {
       "metadata": {},
       "output_type": "display_data",
       "png": "[encoded data removed]",
       "text": [
        "<matplotlib.figure.Figure at 0x7fce838866d0>"
       ]
      }
     ],
     "prompt_number": 31
    },
    {
     "cell_type": "heading",
     "level": 2,
     "metadata": {},
     "source": [
      "Output Log"
     ]
    },
    {
     "cell_type": "code",
     "collapsed": false,
     "input": [
      "config = {}\n",
      "config[\"max_entropy\"]=100\n",
      "config[\"reduction_on_receive\"]=2\n",
      "config[\"increase_on_send\"]=1\n",
      "config[\"state_array_length\"]=20\n",
      "config[\"neighborhood_size\"]=5\n",
      "config[\"starting_entropy\"]=0\n",
      "\n",
      "data = []\n",
      "\n",
      "l = Landscape(10,75,config)\n",
      "logs = l.run(4000)\n",
      "dividers=[i for i in xrange(-1,3)]\n",
      "phasespacemap(logs[\"output_log\"],[1,0,2], \"Phase space map of output log.\",False, \"equals\")"
     ],
     "language": "python",
     "metadata": {},
     "outputs": [
      {
       "metadata": {},
       "output_type": "display_data",
       "png": "[encoded data removed]",
       "text": [
        "<matplotlib.figure.Figure at 0x7f2db9555850>"
       ]
      }
     ],
     "prompt_number": 24
    },
    {
     "cell_type": "code",
     "collapsed": false,
     "input": [
      "config = {}\n",
      "config[\"max_entropy\"]=100\n",
      "config[\"reduction_on_receive\"]=2\n",
      "config[\"increase_on_send\"]=1\n",
      "config[\"state_array_length\"]=20\n",
      "config[\"neighborhood_size\"]=5\n",
      "config[\"starting_entropy\"]=0\n",
      "\n",
      "data = []\n",
      "\n",
      "l = Landscape(15,65,config)\n",
      "logs = l.run(15000)\n",
      "dividers=[i for i in xrange(-1,3)]\n",
      "phasespacemap(logs[\"switch_log\"],[1,0,2], \"Phase space map of switch log.\",False, \"equals\")"
     ],
     "language": "python",
     "metadata": {},
     "outputs": [
      {
       "ename": "UnboundLocalError",
       "evalue": "local variable 'stepcount' referenced before assignment",
       "output_type": "pyerr",
       "traceback": [
        "\u001b[1;31m---------------------------------------------------------------------------\u001b[0m\n\u001b[1;31mUnboundLocalError\u001b[0m                         Traceback (most recent call last)",
        "\u001b[1;32m<ipython-input-47-146325bbe0a5>\u001b[0m in \u001b[0;36m<module>\u001b[1;34m()\u001b[0m\n\u001b[0;32m     10\u001b[0m \u001b[1;33m\u001b[0m\u001b[0m\n\u001b[0;32m     11\u001b[0m \u001b[0ml\u001b[0m \u001b[1;33m=\u001b[0m \u001b[0mLandscape\u001b[0m\u001b[1;33m(\u001b[0m\u001b[1;36m15\u001b[0m\u001b[1;33m,\u001b[0m\u001b[1;36m65\u001b[0m\u001b[1;33m,\u001b[0m\u001b[0mconfig\u001b[0m\u001b[1;33m)\u001b[0m\u001b[1;33m\u001b[0m\u001b[0m\n\u001b[1;32m---> 12\u001b[1;33m \u001b[0mlogs\u001b[0m \u001b[1;33m=\u001b[0m \u001b[0ml\u001b[0m\u001b[1;33m.\u001b[0m\u001b[0mrun\u001b[0m\u001b[1;33m(\u001b[0m\u001b[1;36m15000\u001b[0m\u001b[1;33m)\u001b[0m\u001b[1;33m\u001b[0m\u001b[0m\n\u001b[0m\u001b[0;32m     13\u001b[0m \u001b[0mdividers\u001b[0m\u001b[1;33m=\u001b[0m\u001b[1;33m[\u001b[0m\u001b[0mi\u001b[0m \u001b[1;32mfor\u001b[0m \u001b[0mi\u001b[0m \u001b[1;32min\u001b[0m \u001b[0mxrange\u001b[0m\u001b[1;33m(\u001b[0m\u001b[1;33m-\u001b[0m\u001b[1;36m1\u001b[0m\u001b[1;33m,\u001b[0m\u001b[1;36m3\u001b[0m\u001b[1;33m)\u001b[0m\u001b[1;33m]\u001b[0m\u001b[1;33m\u001b[0m\u001b[0m\n\u001b[0;32m     14\u001b[0m \u001b[0mphasespacemap\u001b[0m\u001b[1;33m(\u001b[0m\u001b[0mlogs\u001b[0m\u001b[1;33m[\u001b[0m\u001b[1;34m\"switch_log\"\u001b[0m\u001b[1;33m]\u001b[0m\u001b[1;33m,\u001b[0m\u001b[1;33m[\u001b[0m\u001b[1;36m1\u001b[0m\u001b[1;33m,\u001b[0m\u001b[1;36m0\u001b[0m\u001b[1;33m,\u001b[0m\u001b[1;36m2\u001b[0m\u001b[1;33m]\u001b[0m\u001b[1;33m,\u001b[0m \u001b[1;34m\"Phase space map of switch log.\"\u001b[0m\u001b[1;33m,\u001b[0m\u001b[0mFalse\u001b[0m\u001b[1;33m,\u001b[0m \u001b[1;34m\"equals\"\u001b[0m\u001b[1;33m)\u001b[0m\u001b[1;33m\u001b[0m\u001b[0m\n",
        "\u001b[1;32m<ipython-input-45-61a972479fe8>\u001b[0m in \u001b[0;36mrun\u001b[1;34m(self, count)\u001b[0m\n\u001b[0;32m     58\u001b[0m     \u001b[1;32mdef\u001b[0m \u001b[0mrun\u001b[0m\u001b[1;33m(\u001b[0m\u001b[0mself\u001b[0m\u001b[1;33m,\u001b[0m \u001b[0mcount\u001b[0m\u001b[1;33m)\u001b[0m\u001b[1;33m:\u001b[0m\u001b[1;33m\u001b[0m\u001b[0m\n\u001b[0;32m     59\u001b[0m         \u001b[1;32mfor\u001b[0m \u001b[0mi\u001b[0m \u001b[1;32min\u001b[0m \u001b[0mxrange\u001b[0m\u001b[1;33m(\u001b[0m\u001b[1;36m1\u001b[0m\u001b[1;33m,\u001b[0m\u001b[0mcount\u001b[0m\u001b[1;33m)\u001b[0m\u001b[1;33m:\u001b[0m\u001b[1;33m\u001b[0m\u001b[0m\n\u001b[1;32m---> 60\u001b[1;33m             \u001b[0mself\u001b[0m\u001b[1;33m.\u001b[0m\u001b[0mstep\u001b[0m\u001b[1;33m(\u001b[0m\u001b[1;33m)\u001b[0m\u001b[1;33m\u001b[0m\u001b[0m\n\u001b[0m\u001b[0;32m     61\u001b[0m         logs = {\"transaction_log\":self.transaction_log, \"entropy_log\":self.entropy_log, \n\u001b[0;32m     62\u001b[0m                 \"output_log\":self.output_log, \"switch_log\":self.switch_log}\n",
        "\u001b[1;32m<ipython-input-45-61a972479fe8>\u001b[0m in \u001b[0;36mstep\u001b[1;34m(self)\u001b[0m\n\u001b[0;32m     20\u001b[0m     \u001b[1;31m#Runs through each entity, transmitting bits and loging information about the entity\u001b[0m\u001b[1;33m\u001b[0m\u001b[1;33m\u001b[0m\u001b[0m\n\u001b[0;32m     21\u001b[0m     \u001b[1;32mdef\u001b[0m \u001b[0mstep\u001b[0m\u001b[1;33m(\u001b[0m\u001b[0mself\u001b[0m\u001b[1;33m)\u001b[0m\u001b[1;33m:\u001b[0m\u001b[1;33m\u001b[0m\u001b[0m\n\u001b[1;32m---> 22\u001b[1;33m         \u001b[0mstepcount\u001b[0m \u001b[1;33m+=\u001b[0m \u001b[1;36m1\u001b[0m\u001b[1;33m;\u001b[0m\u001b[1;33m\u001b[0m\u001b[0m\n\u001b[0m\u001b[0;32m     23\u001b[0m         \u001b[0mself\u001b[0m\u001b[1;33m.\u001b[0m\u001b[0mtransaction_log\u001b[0m\u001b[1;33m.\u001b[0m\u001b[0mappend\u001b[0m\u001b[1;33m(\u001b[0m\u001b[1;33m[\u001b[0m\u001b[1;33m]\u001b[0m\u001b[1;33m)\u001b[0m\u001b[1;33m\u001b[0m\u001b[0m\n\u001b[0;32m     24\u001b[0m         \u001b[0mself\u001b[0m\u001b[1;33m.\u001b[0m\u001b[0mentropy_log\u001b[0m\u001b[1;33m.\u001b[0m\u001b[0mappend\u001b[0m\u001b[1;33m(\u001b[0m\u001b[1;33m[\u001b[0m\u001b[1;33m]\u001b[0m\u001b[1;33m)\u001b[0m\u001b[1;33m\u001b[0m\u001b[0m\n",
        "\u001b[1;31mUnboundLocalError\u001b[0m: local variable 'stepcount' referenced before assignment"
       ]
      }
     ],
     "prompt_number": 47
    }
   ],
   "metadata": {}
  }
 ]
}